{
 "cells": [
  {
   "cell_type": "markdown",
   "id": "ea9ab42a",
   "metadata": {
    "id": "c8bf51d0"
   },
   "source": [
    "# Weather Prediction"
   ]
  },
  {
   "cell_type": "code",
   "execution_count": 36,
   "id": "54517dd6",
   "metadata": {},
   "outputs": [],
   "source": [
    "# importing necessary libraries\n",
    "\n",
    "import pandas as pd\n",
    "import numpy as np\n",
    "import matplotlib.pyplot as plt\n",
    "from matplotlib import rcParams\n",
    "import seaborn as sns\n",
    "import warnings\n",
    "warnings.filterwarnings('ignore')"
   ]
  },
  {
   "cell_type": "code",
   "execution_count": 4,
   "id": "95ec8c41",
   "metadata": {
    "id": "95ec8c41"
   },
   "outputs": [],
   "source": [
    "# reading the datasets\n",
    "\n",
    "df1 = pd.read_csv(\"weatherHistory.csv\")"
   ]
  },
  {
   "cell_type": "code",
   "execution_count": 5,
   "id": "095864a0",
   "metadata": {
    "colab": {
     "base_uri": "https://localhost:8080/"
    },
    "id": "095864a0",
    "outputId": "2fdd72a5-a5ed-4690-de7c-970aa1bee23b"
   },
   "outputs": [
    {
     "data": {
      "text/plain": [
       "(51990, 11)"
      ]
     },
     "execution_count": 5,
     "metadata": {},
     "output_type": "execute_result"
    }
   ],
   "source": [
    "df1.shape"
   ]
  },
  {
   "cell_type": "markdown",
   "id": "3f0653ad",
   "metadata": {},
   "source": [
    "# Data Preprocessing"
   ]
  },
  {
   "cell_type": "code",
   "execution_count": 6,
   "id": "77396fd9",
   "metadata": {
    "colab": {
     "base_uri": "https://localhost:8080/"
    },
    "id": "77396fd9",
    "outputId": "d77c87ff-c33f-462a-e15e-0ddd40c29c1a"
   },
   "outputs": [
    {
     "name": "stdout",
     "output_type": "stream",
     "text": [
      "<class 'pandas.core.frame.DataFrame'>\n",
      "RangeIndex: 51990 entries, 0 to 51989\n",
      "Data columns (total 11 columns):\n",
      " #   Column                    Non-Null Count  Dtype  \n",
      "---  ------                    --------------  -----  \n",
      " 0   Formatted Date            51990 non-null  object \n",
      " 1   Summary                   51990 non-null  object \n",
      " 2   Precip Type               51990 non-null  object \n",
      " 3   Temperature (C)           51990 non-null  float64\n",
      " 4   Apparent Temperature (C)  51990 non-null  float64\n",
      " 5   Humidity                  51990 non-null  float64\n",
      " 6   Wind Speed (km/h)         51990 non-null  float64\n",
      " 7   Wind Bearing (degrees)    51990 non-null  int64  \n",
      " 8   Visibility (km)           51990 non-null  float64\n",
      " 9   Pressure (millibars)      51990 non-null  float64\n",
      " 10  Daily Summary             51990 non-null  object \n",
      "dtypes: float64(6), int64(1), object(4)\n",
      "memory usage: 4.4+ MB\n"
     ]
    }
   ],
   "source": [
    "df1.info()"
   ]
  },
  {
   "cell_type": "code",
   "execution_count": 7,
   "id": "14048749",
   "metadata": {
    "colab": {
     "base_uri": "https://localhost:8080/",
     "height": 458
    },
    "id": "14048749",
    "outputId": "3629031d-b7b2-4a59-adcf-8a2043a4635d"
   },
   "outputs": [
    {
     "data": {
      "text/html": [
       "<div>\n",
       "<style scoped>\n",
       "    .dataframe tbody tr th:only-of-type {\n",
       "        vertical-align: middle;\n",
       "    }\n",
       "\n",
       "    .dataframe tbody tr th {\n",
       "        vertical-align: top;\n",
       "    }\n",
       "\n",
       "    .dataframe thead th {\n",
       "        text-align: right;\n",
       "    }\n",
       "</style>\n",
       "<table border=\"1\" class=\"dataframe\">\n",
       "  <thead>\n",
       "    <tr style=\"text-align: right;\">\n",
       "      <th></th>\n",
       "      <th>Formatted Date</th>\n",
       "      <th>Summary</th>\n",
       "      <th>Precip Type</th>\n",
       "      <th>Temperature (C)</th>\n",
       "      <th>Apparent Temperature (C)</th>\n",
       "      <th>Humidity</th>\n",
       "      <th>Wind Speed (km/h)</th>\n",
       "      <th>Wind Bearing (degrees)</th>\n",
       "      <th>Visibility (km)</th>\n",
       "      <th>Pressure (millibars)</th>\n",
       "      <th>Daily Summary</th>\n",
       "    </tr>\n",
       "  </thead>\n",
       "  <tbody>\n",
       "    <tr>\n",
       "      <th>0</th>\n",
       "      <td>2006-04-01 22:00:00.000 +0200</td>\n",
       "      <td>Partly Cloudy</td>\n",
       "      <td>rain</td>\n",
       "      <td>10.116667</td>\n",
       "      <td>10.116667</td>\n",
       "      <td>0.79</td>\n",
       "      <td>6.6493</td>\n",
       "      <td>163</td>\n",
       "      <td>15.8263</td>\n",
       "      <td>1015.40</td>\n",
       "      <td>Partly cloudy throughout the day.</td>\n",
       "    </tr>\n",
       "    <tr>\n",
       "      <th>1</th>\n",
       "      <td>2006-04-01 23:00:00.000 +0200</td>\n",
       "      <td>Mostly Cloudy</td>\n",
       "      <td>rain</td>\n",
       "      <td>10.200000</td>\n",
       "      <td>10.200000</td>\n",
       "      <td>0.77</td>\n",
       "      <td>3.9284</td>\n",
       "      <td>152</td>\n",
       "      <td>14.9569</td>\n",
       "      <td>1015.51</td>\n",
       "      <td>Partly cloudy throughout the day.</td>\n",
       "    </tr>\n",
       "    <tr>\n",
       "      <th>2</th>\n",
       "      <td>2006-04-10 00:00:00.000 +0200</td>\n",
       "      <td>Partly Cloudy</td>\n",
       "      <td>rain</td>\n",
       "      <td>10.422222</td>\n",
       "      <td>10.422222</td>\n",
       "      <td>0.62</td>\n",
       "      <td>16.9855</td>\n",
       "      <td>150</td>\n",
       "      <td>15.8263</td>\n",
       "      <td>1014.40</td>\n",
       "      <td>Mostly cloudy throughout the day.</td>\n",
       "    </tr>\n",
       "    <tr>\n",
       "      <th>3</th>\n",
       "      <td>2006-04-10 01:00:00.000 +0200</td>\n",
       "      <td>Partly Cloudy</td>\n",
       "      <td>rain</td>\n",
       "      <td>9.911111</td>\n",
       "      <td>7.566667</td>\n",
       "      <td>0.66</td>\n",
       "      <td>17.2109</td>\n",
       "      <td>149</td>\n",
       "      <td>15.8263</td>\n",
       "      <td>1014.20</td>\n",
       "      <td>Mostly cloudy throughout the day.</td>\n",
       "    </tr>\n",
       "    <tr>\n",
       "      <th>4</th>\n",
       "      <td>2006-04-10 02:00:00.000 +0200</td>\n",
       "      <td>Mostly Cloudy</td>\n",
       "      <td>rain</td>\n",
       "      <td>11.183333</td>\n",
       "      <td>11.183333</td>\n",
       "      <td>0.80</td>\n",
       "      <td>10.8192</td>\n",
       "      <td>163</td>\n",
       "      <td>14.9569</td>\n",
       "      <td>1008.71</td>\n",
       "      <td>Mostly cloudy throughout the day.</td>\n",
       "    </tr>\n",
       "  </tbody>\n",
       "</table>\n",
       "</div>"
      ],
      "text/plain": [
       "                  Formatted Date        Summary Precip Type  Temperature (C)  \\\n",
       "0  2006-04-01 22:00:00.000 +0200  Partly Cloudy        rain        10.116667   \n",
       "1  2006-04-01 23:00:00.000 +0200  Mostly Cloudy        rain        10.200000   \n",
       "2  2006-04-10 00:00:00.000 +0200  Partly Cloudy        rain        10.422222   \n",
       "3  2006-04-10 01:00:00.000 +0200  Partly Cloudy        rain         9.911111   \n",
       "4  2006-04-10 02:00:00.000 +0200  Mostly Cloudy        rain        11.183333   \n",
       "\n",
       "   Apparent Temperature (C)  Humidity  Wind Speed (km/h)  \\\n",
       "0                 10.116667      0.79             6.6493   \n",
       "1                 10.200000      0.77             3.9284   \n",
       "2                 10.422222      0.62            16.9855   \n",
       "3                  7.566667      0.66            17.2109   \n",
       "4                 11.183333      0.80            10.8192   \n",
       "\n",
       "   Wind Bearing (degrees)  Visibility (km)  Pressure (millibars)  \\\n",
       "0                     163          15.8263               1015.40   \n",
       "1                     152          14.9569               1015.51   \n",
       "2                     150          15.8263               1014.40   \n",
       "3                     149          15.8263               1014.20   \n",
       "4                     163          14.9569               1008.71   \n",
       "\n",
       "                       Daily Summary  \n",
       "0  Partly cloudy throughout the day.  \n",
       "1  Partly cloudy throughout the day.  \n",
       "2  Mostly cloudy throughout the day.  \n",
       "3  Mostly cloudy throughout the day.  \n",
       "4  Mostly cloudy throughout the day.  "
      ]
     },
     "execution_count": 7,
     "metadata": {},
     "output_type": "execute_result"
    }
   ],
   "source": [
    "df1.head(5)"
   ]
  },
  {
   "cell_type": "code",
   "execution_count": 8,
   "id": "86098e0a",
   "metadata": {
    "colab": {
     "base_uri": "https://localhost:8080/",
     "height": 458
    },
    "id": "86098e0a",
    "outputId": "bfeb000f-e6b8-4c98-8327-dfcc6463460f"
   },
   "outputs": [
    {
     "data": {
      "text/html": [
       "<div>\n",
       "<style scoped>\n",
       "    .dataframe tbody tr th:only-of-type {\n",
       "        vertical-align: middle;\n",
       "    }\n",
       "\n",
       "    .dataframe tbody tr th {\n",
       "        vertical-align: top;\n",
       "    }\n",
       "\n",
       "    .dataframe thead th {\n",
       "        text-align: right;\n",
       "    }\n",
       "</style>\n",
       "<table border=\"1\" class=\"dataframe\">\n",
       "  <thead>\n",
       "    <tr style=\"text-align: right;\">\n",
       "      <th></th>\n",
       "      <th>Formatted Date</th>\n",
       "      <th>Summary</th>\n",
       "      <th>Precip Type</th>\n",
       "      <th>Temperature (C)</th>\n",
       "      <th>Apparent Temperature (C)</th>\n",
       "      <th>Humidity</th>\n",
       "      <th>Wind Speed (km/h)</th>\n",
       "      <th>Wind Bearing (degrees)</th>\n",
       "      <th>Visibility (km)</th>\n",
       "      <th>Pressure (millibars)</th>\n",
       "      <th>Daily Summary</th>\n",
       "    </tr>\n",
       "  </thead>\n",
       "  <tbody>\n",
       "    <tr>\n",
       "      <th>51985</th>\n",
       "      <td>2011-09-13 23:00:00.000 +0200</td>\n",
       "      <td>Clear</td>\n",
       "      <td>rain</td>\n",
       "      <td>16.505556</td>\n",
       "      <td>16.505556</td>\n",
       "      <td>0.76</td>\n",
       "      <td>3.0751</td>\n",
       "      <td>175</td>\n",
       "      <td>14.9569</td>\n",
       "      <td>1014.38</td>\n",
       "      <td>Partly cloudy until morning.</td>\n",
       "    </tr>\n",
       "    <tr>\n",
       "      <th>51986</th>\n",
       "      <td>2011-09-14 00:00:00.000 +0200</td>\n",
       "      <td>Clear</td>\n",
       "      <td>rain</td>\n",
       "      <td>16.577778</td>\n",
       "      <td>16.577778</td>\n",
       "      <td>0.78</td>\n",
       "      <td>3.2200</td>\n",
       "      <td>170</td>\n",
       "      <td>15.8263</td>\n",
       "      <td>1014.58</td>\n",
       "      <td>Partly cloudy starting in the afternoon.</td>\n",
       "    </tr>\n",
       "    <tr>\n",
       "      <th>51987</th>\n",
       "      <td>2011-09-14 01:00:00.000 +0200</td>\n",
       "      <td>Clear</td>\n",
       "      <td>rain</td>\n",
       "      <td>15.027778</td>\n",
       "      <td>15.027778</td>\n",
       "      <td>0.83</td>\n",
       "      <td>0.0000</td>\n",
       "      <td>0</td>\n",
       "      <td>15.8263</td>\n",
       "      <td>1014.58</td>\n",
       "      <td>Partly cloudy starting in the afternoon.</td>\n",
       "    </tr>\n",
       "    <tr>\n",
       "      <th>51988</th>\n",
       "      <td>2011-09-14 02:00:00.000 +0200</td>\n",
       "      <td>Partly Cloudy</td>\n",
       "      <td>rain</td>\n",
       "      <td>17.477778</td>\n",
       "      <td>17.477778</td>\n",
       "      <td>0.77</td>\n",
       "      <td>10.4167</td>\n",
       "      <td>329</td>\n",
       "      <td>14.9569</td>\n",
       "      <td>1015.25</td>\n",
       "      <td>Partly cloudy starting in the afternoon.</td>\n",
       "    </tr>\n",
       "    <tr>\n",
       "      <th>51989</th>\n",
       "      <td>2011-09-14 03:00:00.000 +0200</td>\n",
       "      <td>Clear</td>\n",
       "      <td>rain</td>\n",
       "      <td>13.916667</td>\n",
       "      <td>13.916667</td>\n",
       "      <td>0.86</td>\n",
       "      <td>3.2200</td>\n",
       "      <td>40</td>\n",
       "      <td>15.8263</td>\n",
       "      <td>1014.69</td>\n",
       "      <td>Partly cloudy starting in the afternoon.</td>\n",
       "    </tr>\n",
       "  </tbody>\n",
       "</table>\n",
       "</div>"
      ],
      "text/plain": [
       "                      Formatted Date        Summary Precip Type  \\\n",
       "51985  2011-09-13 23:00:00.000 +0200          Clear        rain   \n",
       "51986  2011-09-14 00:00:00.000 +0200          Clear        rain   \n",
       "51987  2011-09-14 01:00:00.000 +0200          Clear        rain   \n",
       "51988  2011-09-14 02:00:00.000 +0200  Partly Cloudy        rain   \n",
       "51989  2011-09-14 03:00:00.000 +0200          Clear        rain   \n",
       "\n",
       "       Temperature (C)  Apparent Temperature (C)  Humidity  Wind Speed (km/h)  \\\n",
       "51985        16.505556                 16.505556      0.76             3.0751   \n",
       "51986        16.577778                 16.577778      0.78             3.2200   \n",
       "51987        15.027778                 15.027778      0.83             0.0000   \n",
       "51988        17.477778                 17.477778      0.77            10.4167   \n",
       "51989        13.916667                 13.916667      0.86             3.2200   \n",
       "\n",
       "       Wind Bearing (degrees)  Visibility (km)  Pressure (millibars)  \\\n",
       "51985                     175          14.9569               1014.38   \n",
       "51986                     170          15.8263               1014.58   \n",
       "51987                       0          15.8263               1014.58   \n",
       "51988                     329          14.9569               1015.25   \n",
       "51989                      40          15.8263               1014.69   \n",
       "\n",
       "                                  Daily Summary  \n",
       "51985              Partly cloudy until morning.  \n",
       "51986  Partly cloudy starting in the afternoon.  \n",
       "51987  Partly cloudy starting in the afternoon.  \n",
       "51988  Partly cloudy starting in the afternoon.  \n",
       "51989  Partly cloudy starting in the afternoon.  "
      ]
     },
     "execution_count": 8,
     "metadata": {},
     "output_type": "execute_result"
    }
   ],
   "source": [
    "df1.tail(5)"
   ]
  },
  {
   "cell_type": "code",
   "execution_count": 9,
   "id": "9452da21",
   "metadata": {
    "colab": {
     "base_uri": "https://localhost:8080/",
     "height": 501
    },
    "id": "9452da21",
    "outputId": "86a65bac-2ced-4f97-e721-dd4c5202a4f2"
   },
   "outputs": [
    {
     "name": "stdout",
     "output_type": "stream",
     "text": [
      "Class label counts: \n",
      " 0.93    2992\n",
      "0.92    2418\n",
      "0.96    2050\n",
      "0.89    1678\n",
      "0.86    1548\n",
      "        ... \n",
      "0.15       7\n",
      "0.16       6\n",
      "0.00       5\n",
      "0.14       3\n",
      "0.13       1\n",
      "Name: Humidity, Length: 89, dtype: int64\n",
      "Class label percentages: \n",
      " 0.93    5.754953\n",
      "0.92    4.650894\n",
      "0.96    3.943066\n",
      "0.89    3.227544\n",
      "0.86    2.977496\n",
      "          ...   \n",
      "0.15    0.013464\n",
      "0.16    0.011541\n",
      "0.00    0.009617\n",
      "0.14    0.005770\n",
      "0.13    0.001923\n",
      "Name: Humidity, Length: 89, dtype: float64\n",
      "The data is balanced\n"
     ]
    }
   ],
   "source": [
    "#count the number of instances of each class label\n",
    "count=df1['Humidity'].value_counts()\n",
    "\n",
    "# Calculate the percentage of each class\n",
    "percentage = count * 100 / len(df1)\n",
    "\n",
    "#printing the class label counts and percentages\n",
    "print(\"Class label counts: \\n\",count)\n",
    "print(\"Class label percentages: \\n\",percentage)\n",
    "\n",
    "# Determine if the data is balanced or imbalanced\n",
    "if (percentage.iloc[0] < 60 and percentage.iloc[1] < 60) or (percentage.iloc[0] > 40 and percentage.iloc[1] > 40):\n",
    "    print(\"The data is balanced\")\n",
    "else:\n",
    "    print(\"The data is imbalanced\")    "
   ]
  },
  {
   "cell_type": "code",
   "execution_count": 10,
   "id": "5a6a2e2b",
   "metadata": {
    "colab": {
     "base_uri": "https://localhost:8080/"
    },
    "id": "5a6a2e2b",
    "outputId": "fec47351-e7c9-4924-c529-4f64662bedac"
   },
   "outputs": [
    {
     "data": {
      "text/plain": [
       "Index(['Formatted Date', 'Summary', 'Precip Type', 'Temperature (C)',\n",
       "       'Apparent Temperature (C)', 'Humidity', 'Wind Speed (km/h)',\n",
       "       'Wind Bearing (degrees)', 'Visibility (km)', 'Pressure (millibars)',\n",
       "       'Daily Summary'],\n",
       "      dtype='object')"
      ]
     },
     "execution_count": 10,
     "metadata": {},
     "output_type": "execute_result"
    }
   ],
   "source": [
    "df1.columns"
   ]
  },
  {
   "cell_type": "code",
   "execution_count": 11,
   "id": "6f1a5cf4",
   "metadata": {
    "colab": {
     "base_uri": "https://localhost:8080/",
     "height": 394
    },
    "id": "6f1a5cf4",
    "outputId": "3bb39a83-f779-488a-a1a2-7f4d4fa0f37d"
   },
   "outputs": [
    {
     "data": {
      "text/html": [
       "<div>\n",
       "<style scoped>\n",
       "    .dataframe tbody tr th:only-of-type {\n",
       "        vertical-align: middle;\n",
       "    }\n",
       "\n",
       "    .dataframe tbody tr th {\n",
       "        vertical-align: top;\n",
       "    }\n",
       "\n",
       "    .dataframe thead th {\n",
       "        text-align: right;\n",
       "    }\n",
       "</style>\n",
       "<table border=\"1\" class=\"dataframe\">\n",
       "  <thead>\n",
       "    <tr style=\"text-align: right;\">\n",
       "      <th></th>\n",
       "      <th>0</th>\n",
       "    </tr>\n",
       "  </thead>\n",
       "  <tbody>\n",
       "    <tr>\n",
       "      <th>Formatted Date</th>\n",
       "      <td>object</td>\n",
       "    </tr>\n",
       "    <tr>\n",
       "      <th>Summary</th>\n",
       "      <td>object</td>\n",
       "    </tr>\n",
       "    <tr>\n",
       "      <th>Precip Type</th>\n",
       "      <td>object</td>\n",
       "    </tr>\n",
       "    <tr>\n",
       "      <th>Temperature (C)</th>\n",
       "      <td>float64</td>\n",
       "    </tr>\n",
       "    <tr>\n",
       "      <th>Apparent Temperature (C)</th>\n",
       "      <td>float64</td>\n",
       "    </tr>\n",
       "    <tr>\n",
       "      <th>Humidity</th>\n",
       "      <td>float64</td>\n",
       "    </tr>\n",
       "    <tr>\n",
       "      <th>Wind Speed (km/h)</th>\n",
       "      <td>float64</td>\n",
       "    </tr>\n",
       "    <tr>\n",
       "      <th>Wind Bearing (degrees)</th>\n",
       "      <td>int64</td>\n",
       "    </tr>\n",
       "    <tr>\n",
       "      <th>Visibility (km)</th>\n",
       "      <td>float64</td>\n",
       "    </tr>\n",
       "    <tr>\n",
       "      <th>Pressure (millibars)</th>\n",
       "      <td>float64</td>\n",
       "    </tr>\n",
       "    <tr>\n",
       "      <th>Daily Summary</th>\n",
       "      <td>object</td>\n",
       "    </tr>\n",
       "  </tbody>\n",
       "</table>\n",
       "</div>"
      ],
      "text/plain": [
       "                                0\n",
       "Formatted Date             object\n",
       "Summary                    object\n",
       "Precip Type                object\n",
       "Temperature (C)           float64\n",
       "Apparent Temperature (C)  float64\n",
       "Humidity                  float64\n",
       "Wind Speed (km/h)         float64\n",
       "Wind Bearing (degrees)      int64\n",
       "Visibility (km)           float64\n",
       "Pressure (millibars)      float64\n",
       "Daily Summary              object"
      ]
     },
     "execution_count": 11,
     "metadata": {},
     "output_type": "execute_result"
    }
   ],
   "source": [
    "# Creating the Data Dictionary with first column being datatype.\n",
    "\n",
    "Data_dict = pd.DataFrame(df1.dtypes)\n",
    "Data_dict"
   ]
  },
  {
   "cell_type": "code",
   "execution_count": 12,
   "id": "45e6cdcb",
   "metadata": {
    "colab": {
     "base_uri": "https://localhost:8080/",
     "height": 394
    },
    "id": "45e6cdcb",
    "outputId": "9d86eb57-a6aa-41af-b2e5-377120b4e8ec"
   },
   "outputs": [
    {
     "data": {
      "text/html": [
       "<div>\n",
       "<style scoped>\n",
       "    .dataframe tbody tr th:only-of-type {\n",
       "        vertical-align: middle;\n",
       "    }\n",
       "\n",
       "    .dataframe tbody tr th {\n",
       "        vertical-align: top;\n",
       "    }\n",
       "\n",
       "    .dataframe thead th {\n",
       "        text-align: right;\n",
       "    }\n",
       "</style>\n",
       "<table border=\"1\" class=\"dataframe\">\n",
       "  <thead>\n",
       "    <tr style=\"text-align: right;\">\n",
       "      <th></th>\n",
       "      <th>0</th>\n",
       "      <th>MissingVal</th>\n",
       "    </tr>\n",
       "  </thead>\n",
       "  <tbody>\n",
       "    <tr>\n",
       "      <th>Formatted Date</th>\n",
       "      <td>object</td>\n",
       "      <td>0</td>\n",
       "    </tr>\n",
       "    <tr>\n",
       "      <th>Summary</th>\n",
       "      <td>object</td>\n",
       "      <td>0</td>\n",
       "    </tr>\n",
       "    <tr>\n",
       "      <th>Precip Type</th>\n",
       "      <td>object</td>\n",
       "      <td>0</td>\n",
       "    </tr>\n",
       "    <tr>\n",
       "      <th>Temperature (C)</th>\n",
       "      <td>float64</td>\n",
       "      <td>0</td>\n",
       "    </tr>\n",
       "    <tr>\n",
       "      <th>Apparent Temperature (C)</th>\n",
       "      <td>float64</td>\n",
       "      <td>0</td>\n",
       "    </tr>\n",
       "    <tr>\n",
       "      <th>Humidity</th>\n",
       "      <td>float64</td>\n",
       "      <td>0</td>\n",
       "    </tr>\n",
       "    <tr>\n",
       "      <th>Wind Speed (km/h)</th>\n",
       "      <td>float64</td>\n",
       "      <td>0</td>\n",
       "    </tr>\n",
       "    <tr>\n",
       "      <th>Wind Bearing (degrees)</th>\n",
       "      <td>int64</td>\n",
       "      <td>0</td>\n",
       "    </tr>\n",
       "    <tr>\n",
       "      <th>Visibility (km)</th>\n",
       "      <td>float64</td>\n",
       "      <td>0</td>\n",
       "    </tr>\n",
       "    <tr>\n",
       "      <th>Pressure (millibars)</th>\n",
       "      <td>float64</td>\n",
       "      <td>0</td>\n",
       "    </tr>\n",
       "    <tr>\n",
       "      <th>Daily Summary</th>\n",
       "      <td>object</td>\n",
       "      <td>0</td>\n",
       "    </tr>\n",
       "  </tbody>\n",
       "</table>\n",
       "</div>"
      ],
      "text/plain": [
       "                                0  MissingVal\n",
       "Formatted Date             object           0\n",
       "Summary                    object           0\n",
       "Precip Type                object           0\n",
       "Temperature (C)           float64           0\n",
       "Apparent Temperature (C)  float64           0\n",
       "Humidity                  float64           0\n",
       "Wind Speed (km/h)         float64           0\n",
       "Wind Bearing (degrees)      int64           0\n",
       "Visibility (km)           float64           0\n",
       "Pressure (millibars)      float64           0\n",
       "Daily Summary              object           0"
      ]
     },
     "execution_count": 12,
     "metadata": {},
     "output_type": "execute_result"
    }
   ],
   "source": [
    "# identifying the missing values from the dataset.\n",
    "\n",
    "Data_dict['MissingVal'] = df1.isnull().sum()\n",
    "Data_dict"
   ]
  },
  {
   "cell_type": "code",
   "execution_count": 13,
   "id": "a7456797",
   "metadata": {
    "colab": {
     "base_uri": "https://localhost:8080/",
     "height": 394
    },
    "id": "a7456797",
    "outputId": "a9b8a43b-b947-4b16-894d-6f2646be71c6"
   },
   "outputs": [
    {
     "data": {
      "text/html": [
       "<div>\n",
       "<style scoped>\n",
       "    .dataframe tbody tr th:only-of-type {\n",
       "        vertical-align: middle;\n",
       "    }\n",
       "\n",
       "    .dataframe tbody tr th {\n",
       "        vertical-align: top;\n",
       "    }\n",
       "\n",
       "    .dataframe thead th {\n",
       "        text-align: right;\n",
       "    }\n",
       "</style>\n",
       "<table border=\"1\" class=\"dataframe\">\n",
       "  <thead>\n",
       "    <tr style=\"text-align: right;\">\n",
       "      <th></th>\n",
       "      <th>0</th>\n",
       "      <th>MissingVal</th>\n",
       "      <th>UniqueVal</th>\n",
       "    </tr>\n",
       "  </thead>\n",
       "  <tbody>\n",
       "    <tr>\n",
       "      <th>Formatted Date</th>\n",
       "      <td>object</td>\n",
       "      <td>0</td>\n",
       "      <td>51966</td>\n",
       "    </tr>\n",
       "    <tr>\n",
       "      <th>Summary</th>\n",
       "      <td>object</td>\n",
       "      <td>0</td>\n",
       "      <td>21</td>\n",
       "    </tr>\n",
       "    <tr>\n",
       "      <th>Precip Type</th>\n",
       "      <td>object</td>\n",
       "      <td>0</td>\n",
       "      <td>2</td>\n",
       "    </tr>\n",
       "    <tr>\n",
       "      <th>Temperature (C)</th>\n",
       "      <td>float64</td>\n",
       "      <td>0</td>\n",
       "      <td>6871</td>\n",
       "    </tr>\n",
       "    <tr>\n",
       "      <th>Apparent Temperature (C)</th>\n",
       "      <td>float64</td>\n",
       "      <td>0</td>\n",
       "      <td>8198</td>\n",
       "    </tr>\n",
       "    <tr>\n",
       "      <th>Humidity</th>\n",
       "      <td>float64</td>\n",
       "      <td>0</td>\n",
       "      <td>89</td>\n",
       "    </tr>\n",
       "    <tr>\n",
       "      <th>Wind Speed (km/h)</th>\n",
       "      <td>float64</td>\n",
       "      <td>0</td>\n",
       "      <td>2313</td>\n",
       "    </tr>\n",
       "    <tr>\n",
       "      <th>Wind Bearing (degrees)</th>\n",
       "      <td>int64</td>\n",
       "      <td>0</td>\n",
       "      <td>360</td>\n",
       "    </tr>\n",
       "    <tr>\n",
       "      <th>Visibility (km)</th>\n",
       "      <td>float64</td>\n",
       "      <td>0</td>\n",
       "      <td>864</td>\n",
       "    </tr>\n",
       "    <tr>\n",
       "      <th>Pressure (millibars)</th>\n",
       "      <td>float64</td>\n",
       "      <td>0</td>\n",
       "      <td>4642</td>\n",
       "    </tr>\n",
       "    <tr>\n",
       "      <th>Daily Summary</th>\n",
       "      <td>object</td>\n",
       "      <td>0</td>\n",
       "      <td>156</td>\n",
       "    </tr>\n",
       "  </tbody>\n",
       "</table>\n",
       "</div>"
      ],
      "text/plain": [
       "                                0  MissingVal  UniqueVal\n",
       "Formatted Date             object           0      51966\n",
       "Summary                    object           0         21\n",
       "Precip Type                object           0          2\n",
       "Temperature (C)           float64           0       6871\n",
       "Apparent Temperature (C)  float64           0       8198\n",
       "Humidity                  float64           0         89\n",
       "Wind Speed (km/h)         float64           0       2313\n",
       "Wind Bearing (degrees)      int64           0        360\n",
       "Visibility (km)           float64           0        864\n",
       "Pressure (millibars)      float64           0       4642\n",
       "Daily Summary              object           0        156"
      ]
     },
     "execution_count": 13,
     "metadata": {},
     "output_type": "execute_result"
    }
   ],
   "source": [
    "# Identifying unique values \n",
    "\n",
    "Data_dict['UniqueVal'] = df1.nunique()\n",
    "Data_dict"
   ]
  },
  {
   "cell_type": "code",
   "execution_count": 14,
   "id": "0f0037b7",
   "metadata": {
    "colab": {
     "base_uri": "https://localhost:8080/",
     "height": 394
    },
    "id": "0f0037b7",
    "outputId": "5168a76a-5d57-4619-adce-5329d635fdbd"
   },
   "outputs": [
    {
     "data": {
      "text/html": [
       "<div>\n",
       "<style scoped>\n",
       "    .dataframe tbody tr th:only-of-type {\n",
       "        vertical-align: middle;\n",
       "    }\n",
       "\n",
       "    .dataframe tbody tr th {\n",
       "        vertical-align: top;\n",
       "    }\n",
       "\n",
       "    .dataframe thead th {\n",
       "        text-align: right;\n",
       "    }\n",
       "</style>\n",
       "<table border=\"1\" class=\"dataframe\">\n",
       "  <thead>\n",
       "    <tr style=\"text-align: right;\">\n",
       "      <th></th>\n",
       "      <th>0</th>\n",
       "      <th>MissingVal</th>\n",
       "      <th>UniqueVal</th>\n",
       "      <th>Count</th>\n",
       "    </tr>\n",
       "  </thead>\n",
       "  <tbody>\n",
       "    <tr>\n",
       "      <th>Formatted Date</th>\n",
       "      <td>object</td>\n",
       "      <td>0</td>\n",
       "      <td>51966</td>\n",
       "      <td>51990</td>\n",
       "    </tr>\n",
       "    <tr>\n",
       "      <th>Summary</th>\n",
       "      <td>object</td>\n",
       "      <td>0</td>\n",
       "      <td>21</td>\n",
       "      <td>51990</td>\n",
       "    </tr>\n",
       "    <tr>\n",
       "      <th>Precip Type</th>\n",
       "      <td>object</td>\n",
       "      <td>0</td>\n",
       "      <td>2</td>\n",
       "      <td>51990</td>\n",
       "    </tr>\n",
       "    <tr>\n",
       "      <th>Temperature (C)</th>\n",
       "      <td>float64</td>\n",
       "      <td>0</td>\n",
       "      <td>6871</td>\n",
       "      <td>51990</td>\n",
       "    </tr>\n",
       "    <tr>\n",
       "      <th>Apparent Temperature (C)</th>\n",
       "      <td>float64</td>\n",
       "      <td>0</td>\n",
       "      <td>8198</td>\n",
       "      <td>51990</td>\n",
       "    </tr>\n",
       "    <tr>\n",
       "      <th>Humidity</th>\n",
       "      <td>float64</td>\n",
       "      <td>0</td>\n",
       "      <td>89</td>\n",
       "      <td>51990</td>\n",
       "    </tr>\n",
       "    <tr>\n",
       "      <th>Wind Speed (km/h)</th>\n",
       "      <td>float64</td>\n",
       "      <td>0</td>\n",
       "      <td>2313</td>\n",
       "      <td>51990</td>\n",
       "    </tr>\n",
       "    <tr>\n",
       "      <th>Wind Bearing (degrees)</th>\n",
       "      <td>int64</td>\n",
       "      <td>0</td>\n",
       "      <td>360</td>\n",
       "      <td>51990</td>\n",
       "    </tr>\n",
       "    <tr>\n",
       "      <th>Visibility (km)</th>\n",
       "      <td>float64</td>\n",
       "      <td>0</td>\n",
       "      <td>864</td>\n",
       "      <td>51990</td>\n",
       "    </tr>\n",
       "    <tr>\n",
       "      <th>Pressure (millibars)</th>\n",
       "      <td>float64</td>\n",
       "      <td>0</td>\n",
       "      <td>4642</td>\n",
       "      <td>51990</td>\n",
       "    </tr>\n",
       "    <tr>\n",
       "      <th>Daily Summary</th>\n",
       "      <td>object</td>\n",
       "      <td>0</td>\n",
       "      <td>156</td>\n",
       "      <td>51990</td>\n",
       "    </tr>\n",
       "  </tbody>\n",
       "</table>\n",
       "</div>"
      ],
      "text/plain": [
       "                                0  MissingVal  UniqueVal  Count\n",
       "Formatted Date             object           0      51966  51990\n",
       "Summary                    object           0         21  51990\n",
       "Precip Type                object           0          2  51990\n",
       "Temperature (C)           float64           0       6871  51990\n",
       "Apparent Temperature (C)  float64           0       8198  51990\n",
       "Humidity                  float64           0         89  51990\n",
       "Wind Speed (km/h)         float64           0       2313  51990\n",
       "Wind Bearing (degrees)      int64           0        360  51990\n",
       "Visibility (km)           float64           0        864  51990\n",
       "Pressure (millibars)      float64           0       4642  51990\n",
       "Daily Summary              object           0        156  51990"
      ]
     },
     "execution_count": 14,
     "metadata": {},
     "output_type": "execute_result"
    }
   ],
   "source": [
    "# identifying count of the variable.\n",
    "\n",
    "Data_dict['Count'] = df1.count()\n",
    "Data_dict"
   ]
  },
  {
   "cell_type": "code",
   "execution_count": 15,
   "id": "7c501f2c",
   "metadata": {
    "colab": {
     "base_uri": "https://localhost:8080/",
     "height": 344
    },
    "id": "7c501f2c",
    "outputId": "3836f2c5-796f-400d-b6a9-fcba82ecbb14"
   },
   "outputs": [
    {
     "data": {
      "text/html": [
       "<div>\n",
       "<style scoped>\n",
       "    .dataframe tbody tr th:only-of-type {\n",
       "        vertical-align: middle;\n",
       "    }\n",
       "\n",
       "    .dataframe tbody tr th {\n",
       "        vertical-align: top;\n",
       "    }\n",
       "\n",
       "    .dataframe thead th {\n",
       "        text-align: right;\n",
       "    }\n",
       "</style>\n",
       "<table border=\"1\" class=\"dataframe\">\n",
       "  <thead>\n",
       "    <tr style=\"text-align: right;\">\n",
       "      <th></th>\n",
       "      <th>Temperature (C)</th>\n",
       "      <th>Apparent Temperature (C)</th>\n",
       "      <th>Humidity</th>\n",
       "      <th>Wind Speed (km/h)</th>\n",
       "      <th>Wind Bearing (degrees)</th>\n",
       "      <th>Visibility (km)</th>\n",
       "      <th>Pressure (millibars)</th>\n",
       "    </tr>\n",
       "  </thead>\n",
       "  <tbody>\n",
       "    <tr>\n",
       "      <th>count</th>\n",
       "      <td>51990.000000</td>\n",
       "      <td>51990.000000</td>\n",
       "      <td>51990.000000</td>\n",
       "      <td>51990.000000</td>\n",
       "      <td>51990.000000</td>\n",
       "      <td>51990.000000</td>\n",
       "      <td>51990.000000</td>\n",
       "    </tr>\n",
       "    <tr>\n",
       "      <th>mean</th>\n",
       "      <td>11.660597</td>\n",
       "      <td>10.569183</td>\n",
       "      <td>0.734411</td>\n",
       "      <td>10.806902</td>\n",
       "      <td>189.665532</td>\n",
       "      <td>9.827860</td>\n",
       "      <td>1003.758146</td>\n",
       "    </tr>\n",
       "    <tr>\n",
       "      <th>std</th>\n",
       "      <td>9.633998</td>\n",
       "      <td>10.776429</td>\n",
       "      <td>0.192854</td>\n",
       "      <td>6.986637</td>\n",
       "      <td>107.371633</td>\n",
       "      <td>3.848242</td>\n",
       "      <td>115.311578</td>\n",
       "    </tr>\n",
       "    <tr>\n",
       "      <th>min</th>\n",
       "      <td>-16.666667</td>\n",
       "      <td>-24.233333</td>\n",
       "      <td>0.000000</td>\n",
       "      <td>0.000000</td>\n",
       "      <td>0.000000</td>\n",
       "      <td>0.000000</td>\n",
       "      <td>0.000000</td>\n",
       "    </tr>\n",
       "    <tr>\n",
       "      <th>25%</th>\n",
       "      <td>4.088889</td>\n",
       "      <td>1.923611</td>\n",
       "      <td>0.610000</td>\n",
       "      <td>5.635000</td>\n",
       "      <td>117.250000</td>\n",
       "      <td>8.130500</td>\n",
       "      <td>1011.790000</td>\n",
       "    </tr>\n",
       "    <tr>\n",
       "      <th>50%</th>\n",
       "      <td>11.602778</td>\n",
       "      <td>11.602778</td>\n",
       "      <td>0.780000</td>\n",
       "      <td>9.821000</td>\n",
       "      <td>184.000000</td>\n",
       "      <td>9.982000</td>\n",
       "      <td>1016.570000</td>\n",
       "    </tr>\n",
       "    <tr>\n",
       "      <th>75%</th>\n",
       "      <td>18.733333</td>\n",
       "      <td>18.733333</td>\n",
       "      <td>0.890000</td>\n",
       "      <td>14.168000</td>\n",
       "      <td>290.000000</td>\n",
       "      <td>11.270000</td>\n",
       "      <td>1021.450000</td>\n",
       "    </tr>\n",
       "    <tr>\n",
       "      <th>max</th>\n",
       "      <td>39.905556</td>\n",
       "      <td>38.377778</td>\n",
       "      <td>1.000000</td>\n",
       "      <td>63.852600</td>\n",
       "      <td>359.000000</td>\n",
       "      <td>16.100000</td>\n",
       "      <td>1046.380000</td>\n",
       "    </tr>\n",
       "  </tbody>\n",
       "</table>\n",
       "</div>"
      ],
      "text/plain": [
       "       Temperature (C)  Apparent Temperature (C)      Humidity  \\\n",
       "count     51990.000000              51990.000000  51990.000000   \n",
       "mean         11.660597                 10.569183      0.734411   \n",
       "std           9.633998                 10.776429      0.192854   \n",
       "min         -16.666667                -24.233333      0.000000   \n",
       "25%           4.088889                  1.923611      0.610000   \n",
       "50%          11.602778                 11.602778      0.780000   \n",
       "75%          18.733333                 18.733333      0.890000   \n",
       "max          39.905556                 38.377778      1.000000   \n",
       "\n",
       "       Wind Speed (km/h)  Wind Bearing (degrees)  Visibility (km)  \\\n",
       "count       51990.000000            51990.000000     51990.000000   \n",
       "mean           10.806902              189.665532         9.827860   \n",
       "std             6.986637              107.371633         3.848242   \n",
       "min             0.000000                0.000000         0.000000   \n",
       "25%             5.635000              117.250000         8.130500   \n",
       "50%             9.821000              184.000000         9.982000   \n",
       "75%            14.168000              290.000000        11.270000   \n",
       "max            63.852600              359.000000        16.100000   \n",
       "\n",
       "       Pressure (millibars)  \n",
       "count          51990.000000  \n",
       "mean            1003.758146  \n",
       "std              115.311578  \n",
       "min                0.000000  \n",
       "25%             1011.790000  \n",
       "50%             1016.570000  \n",
       "75%             1021.450000  \n",
       "max             1046.380000  "
      ]
     },
     "execution_count": 15,
     "metadata": {},
     "output_type": "execute_result"
    }
   ],
   "source": [
    "df1.describe()"
   ]
  },
  {
   "cell_type": "code",
   "execution_count": 16,
   "id": "6b67b56f",
   "metadata": {
    "colab": {
     "base_uri": "https://localhost:8080/"
    },
    "id": "6b67b56f",
    "outputId": "dedaea7d-3d62-4615-8c20-a3fb24346ce6"
   },
   "outputs": [
    {
     "name": "stdout",
     "output_type": "stream",
     "text": [
      "Outliers per column:\n",
      "Formatted Date: 0\n",
      "Summary: 0\n",
      "Precip Type: 0\n",
      "Temperature (C): 0\n",
      "Apparent Temperature (C): 12\n",
      "Humidity: 16\n",
      "Wind Speed (km/h): 664\n",
      "Wind Bearing (degrees): 0\n",
      "Visibility (km): 0\n",
      "Pressure (millibars): 674\n",
      "Daily Summary: 0\n"
     ]
    }
   ],
   "source": [
    "# Calculate Z-scores for each column\n",
    "\n",
    "z_scores = (df1 - df1.mean()) / df1.std()\n",
    "\n",
    "# Find outliers (|Z-score| > 3)\n",
    "outliers = np.abs(z_scores) > 3\n",
    "\n",
    "# Find total number of outliers for each column \n",
    "col_outliers = outliers.sum(axis=0)\n",
    "\n",
    "print(\"Outliers per column:\")\n",
    "for col in df1.columns:\n",
    "    print(f\"{col}: {col_outliers[col]}\")"
   ]
  },
  {
   "cell_type": "code",
   "execution_count": 18,
   "id": "ccfb0a18",
   "metadata": {
    "colab": {
     "base_uri": "https://localhost:8080/"
    },
    "id": "ccfb0a18",
    "outputId": "8b968720-1e0a-47bf-f63f-34adb1edb681"
   },
   "outputs": [
    {
     "name": "stdout",
     "output_type": "stream",
     "text": [
      "Replaced outliers per column:\n",
      "Formatted Date: 0\n",
      "Summary: 0\n",
      "Precip Type: 0\n",
      "Temperature (C): 0\n",
      "Apparent Temperature (C): 2\n",
      "Humidity: 0\n",
      "Wind Speed (km/h): 240\n",
      "Wind Bearing (degrees): 0\n",
      "Visibility (km): 0\n",
      "Pressure (millibars): 470\n",
      "Daily Summary: 0\n"
     ]
    }
   ],
   "source": [
    "# Calculate Z-scores for each column\n",
    "z_scores = (df1 - df1.mean()) / df1.std()\n",
    "\n",
    "# Find outliers (|Z-score| > 3)\n",
    "outliers = np.abs(z_scores) > 3\n",
    "\n",
    "# Replace outliers with NaN\n",
    "df1[outliers] = np.nan\n",
    "\n",
    "# Replace NaN with median value of each column\n",
    "median_vals = df1.median()\n",
    "df1 = df1.fillna(median_vals)\n",
    "\n",
    "# Find total number of replaced outliers for each column \n",
    "col_replaced = outliers.sum(axis=0)\n",
    "\n",
    "print(\"Replaced outliers per column:\")\n",
    "for col in df1.columns:\n",
    "    print(f\"{col}: {col_replaced[col]}\")\n"
   ]
  },
  {
   "cell_type": "code",
   "execution_count": 19,
   "id": "a3784b14",
   "metadata": {
    "colab": {
     "base_uri": "https://localhost:8080/"
    },
    "id": "a3784b14",
    "outputId": "759b1a79-55de-4dcf-c419-d170e1b3c355"
   },
   "outputs": [
    {
     "data": {
      "text/plain": [
       "Index(['Wind Bearing (degrees)'], dtype='object')"
      ]
     },
     "execution_count": 19,
     "metadata": {},
     "output_type": "execute_result"
    }
   ],
   "source": [
    "# Numerical Columns\n",
    "num_attr = df1.select_dtypes(['int']).columns  \n",
    "num_attr"
   ]
  },
  {
   "cell_type": "code",
   "execution_count": 20,
   "id": "4bf8e9d3",
   "metadata": {
    "colab": {
     "base_uri": "https://localhost:8080/"
    },
    "id": "4bf8e9d3",
    "outputId": "9b99f6f7-8afd-4505-b241-79f317494b15"
   },
   "outputs": [
    {
     "data": {
      "text/plain": [
       "Index(['Formatted Date', 'Summary', 'Precip Type', 'Daily Summary'], dtype='object')"
      ]
     },
     "execution_count": 20,
     "metadata": {},
     "output_type": "execute_result"
    }
   ],
   "source": [
    "# Categorical Columns\n",
    "cat_attr = df1.select_dtypes('object').columns\n",
    "cat_attr"
   ]
  },
  {
   "cell_type": "code",
   "execution_count": 31,
   "id": "b214a515",
   "metadata": {},
   "outputs": [
    {
     "data": {
      "text/plain": [
       "Index(['Temperature (C)', 'Apparent Temperature (C)', 'Humidity',\n",
       "       'Wind Speed (km/h)', 'Wind Bearing (degrees)', 'Visibility (km)',\n",
       "       'Pressure (millibars)'],\n",
       "      dtype='object')"
      ]
     },
     "execution_count": 31,
     "metadata": {},
     "output_type": "execute_result"
    }
   ],
   "source": [
    "# Quantitative variables\n",
    "quantitative = df1.select_dtypes(include = [\"int\",\"float\"]).columns\n",
    "quantitative"
   ]
  },
  {
   "cell_type": "code",
   "execution_count": 21,
   "id": "cb31cb4a",
   "metadata": {
    "colab": {
     "base_uri": "https://localhost:8080/",
     "height": 502
    },
    "id": "cb31cb4a",
    "outputId": "ff5845fe-65da-4d86-ada8-b0d094549513"
   },
   "outputs": [
    {
     "data": {
      "text/html": [
       "<div>\n",
       "<style scoped>\n",
       "    .dataframe tbody tr th:only-of-type {\n",
       "        vertical-align: middle;\n",
       "    }\n",
       "\n",
       "    .dataframe tbody tr th {\n",
       "        vertical-align: top;\n",
       "    }\n",
       "\n",
       "    .dataframe thead th {\n",
       "        text-align: right;\n",
       "    }\n",
       "</style>\n",
       "<table border=\"1\" class=\"dataframe\">\n",
       "  <thead>\n",
       "    <tr style=\"text-align: right;\">\n",
       "      <th></th>\n",
       "      <th>Formatted Date</th>\n",
       "      <th>Summary</th>\n",
       "      <th>Precip Type</th>\n",
       "      <th>Temperature (C)</th>\n",
       "      <th>Apparent Temperature (C)</th>\n",
       "      <th>Humidity</th>\n",
       "      <th>Wind Speed (km/h)</th>\n",
       "      <th>Wind Bearing (degrees)</th>\n",
       "      <th>Visibility (km)</th>\n",
       "      <th>Pressure (millibars)</th>\n",
       "      <th>Daily Summary</th>\n",
       "    </tr>\n",
       "  </thead>\n",
       "  <tbody>\n",
       "    <tr>\n",
       "      <th>0</th>\n",
       "      <td>0</td>\n",
       "      <td>0</td>\n",
       "      <td>0</td>\n",
       "      <td>10.116667</td>\n",
       "      <td>10.116667</td>\n",
       "      <td>0.79</td>\n",
       "      <td>6.6493</td>\n",
       "      <td>163</td>\n",
       "      <td>15.8263</td>\n",
       "      <td>1015.40</td>\n",
       "      <td>0</td>\n",
       "    </tr>\n",
       "    <tr>\n",
       "      <th>1</th>\n",
       "      <td>1</td>\n",
       "      <td>1</td>\n",
       "      <td>0</td>\n",
       "      <td>10.200000</td>\n",
       "      <td>10.200000</td>\n",
       "      <td>0.77</td>\n",
       "      <td>3.9284</td>\n",
       "      <td>152</td>\n",
       "      <td>14.9569</td>\n",
       "      <td>1015.51</td>\n",
       "      <td>0</td>\n",
       "    </tr>\n",
       "    <tr>\n",
       "      <th>2</th>\n",
       "      <td>2</td>\n",
       "      <td>0</td>\n",
       "      <td>0</td>\n",
       "      <td>10.422222</td>\n",
       "      <td>10.422222</td>\n",
       "      <td>0.62</td>\n",
       "      <td>16.9855</td>\n",
       "      <td>150</td>\n",
       "      <td>15.8263</td>\n",
       "      <td>1014.40</td>\n",
       "      <td>1</td>\n",
       "    </tr>\n",
       "    <tr>\n",
       "      <th>3</th>\n",
       "      <td>3</td>\n",
       "      <td>0</td>\n",
       "      <td>0</td>\n",
       "      <td>9.911111</td>\n",
       "      <td>7.566667</td>\n",
       "      <td>0.66</td>\n",
       "      <td>17.2109</td>\n",
       "      <td>149</td>\n",
       "      <td>15.8263</td>\n",
       "      <td>1014.20</td>\n",
       "      <td>1</td>\n",
       "    </tr>\n",
       "    <tr>\n",
       "      <th>4</th>\n",
       "      <td>4</td>\n",
       "      <td>1</td>\n",
       "      <td>0</td>\n",
       "      <td>11.183333</td>\n",
       "      <td>11.183333</td>\n",
       "      <td>0.80</td>\n",
       "      <td>10.8192</td>\n",
       "      <td>163</td>\n",
       "      <td>14.9569</td>\n",
       "      <td>1008.71</td>\n",
       "      <td>1</td>\n",
       "    </tr>\n",
       "    <tr>\n",
       "      <th>...</th>\n",
       "      <td>...</td>\n",
       "      <td>...</td>\n",
       "      <td>...</td>\n",
       "      <td>...</td>\n",
       "      <td>...</td>\n",
       "      <td>...</td>\n",
       "      <td>...</td>\n",
       "      <td>...</td>\n",
       "      <td>...</td>\n",
       "      <td>...</td>\n",
       "      <td>...</td>\n",
       "    </tr>\n",
       "    <tr>\n",
       "      <th>51985</th>\n",
       "      <td>51961</td>\n",
       "      <td>5</td>\n",
       "      <td>0</td>\n",
       "      <td>16.505556</td>\n",
       "      <td>16.505556</td>\n",
       "      <td>0.76</td>\n",
       "      <td>3.0751</td>\n",
       "      <td>175</td>\n",
       "      <td>14.9569</td>\n",
       "      <td>1014.38</td>\n",
       "      <td>16</td>\n",
       "    </tr>\n",
       "    <tr>\n",
       "      <th>51986</th>\n",
       "      <td>51962</td>\n",
       "      <td>5</td>\n",
       "      <td>0</td>\n",
       "      <td>16.577778</td>\n",
       "      <td>16.577778</td>\n",
       "      <td>0.78</td>\n",
       "      <td>3.2200</td>\n",
       "      <td>170</td>\n",
       "      <td>15.8263</td>\n",
       "      <td>1014.58</td>\n",
       "      <td>14</td>\n",
       "    </tr>\n",
       "    <tr>\n",
       "      <th>51987</th>\n",
       "      <td>51963</td>\n",
       "      <td>5</td>\n",
       "      <td>0</td>\n",
       "      <td>15.027778</td>\n",
       "      <td>15.027778</td>\n",
       "      <td>0.83</td>\n",
       "      <td>0.0000</td>\n",
       "      <td>0</td>\n",
       "      <td>15.8263</td>\n",
       "      <td>1014.58</td>\n",
       "      <td>14</td>\n",
       "    </tr>\n",
       "    <tr>\n",
       "      <th>51988</th>\n",
       "      <td>51964</td>\n",
       "      <td>0</td>\n",
       "      <td>0</td>\n",
       "      <td>17.477778</td>\n",
       "      <td>17.477778</td>\n",
       "      <td>0.77</td>\n",
       "      <td>10.4167</td>\n",
       "      <td>329</td>\n",
       "      <td>14.9569</td>\n",
       "      <td>1015.25</td>\n",
       "      <td>14</td>\n",
       "    </tr>\n",
       "    <tr>\n",
       "      <th>51989</th>\n",
       "      <td>51965</td>\n",
       "      <td>5</td>\n",
       "      <td>0</td>\n",
       "      <td>13.916667</td>\n",
       "      <td>13.916667</td>\n",
       "      <td>0.86</td>\n",
       "      <td>3.2200</td>\n",
       "      <td>40</td>\n",
       "      <td>15.8263</td>\n",
       "      <td>1014.69</td>\n",
       "      <td>14</td>\n",
       "    </tr>\n",
       "  </tbody>\n",
       "</table>\n",
       "<p>51990 rows × 11 columns</p>\n",
       "</div>"
      ],
      "text/plain": [
       "       Formatted Date  Summary  Precip Type  Temperature (C)  \\\n",
       "0                   0        0            0        10.116667   \n",
       "1                   1        1            0        10.200000   \n",
       "2                   2        0            0        10.422222   \n",
       "3                   3        0            0         9.911111   \n",
       "4                   4        1            0        11.183333   \n",
       "...               ...      ...          ...              ...   \n",
       "51985           51961        5            0        16.505556   \n",
       "51986           51962        5            0        16.577778   \n",
       "51987           51963        5            0        15.027778   \n",
       "51988           51964        0            0        17.477778   \n",
       "51989           51965        5            0        13.916667   \n",
       "\n",
       "       Apparent Temperature (C)  Humidity  Wind Speed (km/h)  \\\n",
       "0                     10.116667      0.79             6.6493   \n",
       "1                     10.200000      0.77             3.9284   \n",
       "2                     10.422222      0.62            16.9855   \n",
       "3                      7.566667      0.66            17.2109   \n",
       "4                     11.183333      0.80            10.8192   \n",
       "...                         ...       ...                ...   \n",
       "51985                 16.505556      0.76             3.0751   \n",
       "51986                 16.577778      0.78             3.2200   \n",
       "51987                 15.027778      0.83             0.0000   \n",
       "51988                 17.477778      0.77            10.4167   \n",
       "51989                 13.916667      0.86             3.2200   \n",
       "\n",
       "       Wind Bearing (degrees)  Visibility (km)  Pressure (millibars)  \\\n",
       "0                         163          15.8263               1015.40   \n",
       "1                         152          14.9569               1015.51   \n",
       "2                         150          15.8263               1014.40   \n",
       "3                         149          15.8263               1014.20   \n",
       "4                         163          14.9569               1008.71   \n",
       "...                       ...              ...                   ...   \n",
       "51985                     175          14.9569               1014.38   \n",
       "51986                     170          15.8263               1014.58   \n",
       "51987                       0          15.8263               1014.58   \n",
       "51988                     329          14.9569               1015.25   \n",
       "51989                      40          15.8263               1014.69   \n",
       "\n",
       "       Daily Summary  \n",
       "0                  0  \n",
       "1                  0  \n",
       "2                  1  \n",
       "3                  1  \n",
       "4                  1  \n",
       "...              ...  \n",
       "51985             16  \n",
       "51986             14  \n",
       "51987             14  \n",
       "51988             14  \n",
       "51989             14  \n",
       "\n",
       "[51990 rows x 11 columns]"
      ]
     },
     "execution_count": 21,
     "metadata": {},
     "output_type": "execute_result"
    }
   ],
   "source": [
    "# create a copy of the original dataframe\n",
    "new_df1 = df1.copy()\n",
    "\n",
    "# get a list of the categorical columns\n",
    "cat_cols = df1.select_dtypes(include=['object']).columns.tolist()\n",
    "\n",
    "# perform label encoding\n",
    "for col in cat_cols:\n",
    "    new_df1[col] = pd.factorize(df1[col])[0]\n",
    "new_df1"
   ]
  },
  {
   "cell_type": "code",
   "execution_count": 22,
   "id": "f5999171",
   "metadata": {
    "colab": {
     "base_uri": "https://localhost:8080/"
    },
    "id": "f5999171",
    "outputId": "3d29c4e9-35da-499a-f531-35a1f37eaa40"
   },
   "outputs": [
    {
     "data": {
      "text/plain": [
       "Formatted Date                int64\n",
       "Summary                       int64\n",
       "Precip Type                   int64\n",
       "Temperature (C)             float64\n",
       "Apparent Temperature (C)    float64\n",
       "Humidity                    float64\n",
       "Wind Speed (km/h)           float64\n",
       "Wind Bearing (degrees)        int64\n",
       "Visibility (km)             float64\n",
       "Pressure (millibars)        float64\n",
       "Daily Summary                 int64\n",
       "dtype: object"
      ]
     },
     "execution_count": 22,
     "metadata": {},
     "output_type": "execute_result"
    }
   ],
   "source": [
    "new_df1.dtypes"
   ]
  },
  {
   "cell_type": "code",
   "execution_count": 23,
   "id": "de0a0ab8",
   "metadata": {
    "id": "de0a0ab8"
   },
   "outputs": [],
   "source": [
    "new_df1= new_df1.astype('float64')"
   ]
  },
  {
   "cell_type": "code",
   "execution_count": 24,
   "id": "8c470d01",
   "metadata": {
    "colab": {
     "base_uri": "https://localhost:8080/"
    },
    "id": "8c470d01",
    "outputId": "df41786c-181f-487f-8837-090a0ef84ae3"
   },
   "outputs": [
    {
     "data": {
      "text/plain": [
       "Formatted Date              float64\n",
       "Summary                     float64\n",
       "Precip Type                 float64\n",
       "Temperature (C)             float64\n",
       "Apparent Temperature (C)    float64\n",
       "Humidity                    float64\n",
       "Wind Speed (km/h)           float64\n",
       "Wind Bearing (degrees)      float64\n",
       "Visibility (km)             float64\n",
       "Pressure (millibars)        float64\n",
       "Daily Summary               float64\n",
       "dtype: object"
      ]
     },
     "execution_count": 24,
     "metadata": {},
     "output_type": "execute_result"
    }
   ],
   "source": [
    "new_df1.dtypes"
   ]
  },
  {
   "cell_type": "code",
   "execution_count": 25,
   "id": "m99cToUuzjML",
   "metadata": {
    "colab": {
     "base_uri": "https://localhost:8080/",
     "height": 502
    },
    "id": "m99cToUuzjML",
    "outputId": "8e235567-5130-4875-e510-1045a9477767"
   },
   "outputs": [
    {
     "data": {
      "text/html": [
       "<div>\n",
       "<style scoped>\n",
       "    .dataframe tbody tr th:only-of-type {\n",
       "        vertical-align: middle;\n",
       "    }\n",
       "\n",
       "    .dataframe tbody tr th {\n",
       "        vertical-align: top;\n",
       "    }\n",
       "\n",
       "    .dataframe thead th {\n",
       "        text-align: right;\n",
       "    }\n",
       "</style>\n",
       "<table border=\"1\" class=\"dataframe\">\n",
       "  <thead>\n",
       "    <tr style=\"text-align: right;\">\n",
       "      <th></th>\n",
       "      <th>Formatted Date</th>\n",
       "      <th>Summary</th>\n",
       "      <th>Precip Type</th>\n",
       "      <th>Temperature (C)</th>\n",
       "      <th>Apparent Temperature (C)</th>\n",
       "      <th>Humidity</th>\n",
       "      <th>Wind Speed (km/h)</th>\n",
       "      <th>Wind Bearing (degrees)</th>\n",
       "      <th>Visibility (km)</th>\n",
       "      <th>Pressure (millibars)</th>\n",
       "      <th>Daily Summary</th>\n",
       "    </tr>\n",
       "  </thead>\n",
       "  <tbody>\n",
       "    <tr>\n",
       "      <th>0</th>\n",
       "      <td>0.0</td>\n",
       "      <td>0.0</td>\n",
       "      <td>0.0</td>\n",
       "      <td>10.116667</td>\n",
       "      <td>10.116667</td>\n",
       "      <td>0.79</td>\n",
       "      <td>6.6493</td>\n",
       "      <td>163.0</td>\n",
       "      <td>15.8263</td>\n",
       "      <td>1015.40</td>\n",
       "      <td>0.0</td>\n",
       "    </tr>\n",
       "    <tr>\n",
       "      <th>1</th>\n",
       "      <td>1.0</td>\n",
       "      <td>1.0</td>\n",
       "      <td>0.0</td>\n",
       "      <td>10.200000</td>\n",
       "      <td>10.200000</td>\n",
       "      <td>0.77</td>\n",
       "      <td>3.9284</td>\n",
       "      <td>152.0</td>\n",
       "      <td>14.9569</td>\n",
       "      <td>1015.51</td>\n",
       "      <td>0.0</td>\n",
       "    </tr>\n",
       "    <tr>\n",
       "      <th>2</th>\n",
       "      <td>2.0</td>\n",
       "      <td>0.0</td>\n",
       "      <td>0.0</td>\n",
       "      <td>10.422222</td>\n",
       "      <td>10.422222</td>\n",
       "      <td>0.62</td>\n",
       "      <td>16.9855</td>\n",
       "      <td>150.0</td>\n",
       "      <td>15.8263</td>\n",
       "      <td>1014.40</td>\n",
       "      <td>1.0</td>\n",
       "    </tr>\n",
       "    <tr>\n",
       "      <th>3</th>\n",
       "      <td>3.0</td>\n",
       "      <td>0.0</td>\n",
       "      <td>0.0</td>\n",
       "      <td>9.911111</td>\n",
       "      <td>7.566667</td>\n",
       "      <td>0.66</td>\n",
       "      <td>17.2109</td>\n",
       "      <td>149.0</td>\n",
       "      <td>15.8263</td>\n",
       "      <td>1014.20</td>\n",
       "      <td>1.0</td>\n",
       "    </tr>\n",
       "    <tr>\n",
       "      <th>4</th>\n",
       "      <td>4.0</td>\n",
       "      <td>1.0</td>\n",
       "      <td>0.0</td>\n",
       "      <td>11.183333</td>\n",
       "      <td>11.183333</td>\n",
       "      <td>0.80</td>\n",
       "      <td>10.8192</td>\n",
       "      <td>163.0</td>\n",
       "      <td>14.9569</td>\n",
       "      <td>1008.71</td>\n",
       "      <td>1.0</td>\n",
       "    </tr>\n",
       "    <tr>\n",
       "      <th>...</th>\n",
       "      <td>...</td>\n",
       "      <td>...</td>\n",
       "      <td>...</td>\n",
       "      <td>...</td>\n",
       "      <td>...</td>\n",
       "      <td>...</td>\n",
       "      <td>...</td>\n",
       "      <td>...</td>\n",
       "      <td>...</td>\n",
       "      <td>...</td>\n",
       "      <td>...</td>\n",
       "    </tr>\n",
       "    <tr>\n",
       "      <th>51985</th>\n",
       "      <td>51961.0</td>\n",
       "      <td>5.0</td>\n",
       "      <td>0.0</td>\n",
       "      <td>16.505556</td>\n",
       "      <td>16.505556</td>\n",
       "      <td>0.76</td>\n",
       "      <td>3.0751</td>\n",
       "      <td>175.0</td>\n",
       "      <td>14.9569</td>\n",
       "      <td>1014.38</td>\n",
       "      <td>16.0</td>\n",
       "    </tr>\n",
       "    <tr>\n",
       "      <th>51986</th>\n",
       "      <td>51962.0</td>\n",
       "      <td>5.0</td>\n",
       "      <td>0.0</td>\n",
       "      <td>16.577778</td>\n",
       "      <td>16.577778</td>\n",
       "      <td>0.78</td>\n",
       "      <td>3.2200</td>\n",
       "      <td>170.0</td>\n",
       "      <td>15.8263</td>\n",
       "      <td>1014.58</td>\n",
       "      <td>14.0</td>\n",
       "    </tr>\n",
       "    <tr>\n",
       "      <th>51987</th>\n",
       "      <td>51963.0</td>\n",
       "      <td>5.0</td>\n",
       "      <td>0.0</td>\n",
       "      <td>15.027778</td>\n",
       "      <td>15.027778</td>\n",
       "      <td>0.83</td>\n",
       "      <td>0.0000</td>\n",
       "      <td>0.0</td>\n",
       "      <td>15.8263</td>\n",
       "      <td>1014.58</td>\n",
       "      <td>14.0</td>\n",
       "    </tr>\n",
       "    <tr>\n",
       "      <th>51988</th>\n",
       "      <td>51964.0</td>\n",
       "      <td>0.0</td>\n",
       "      <td>0.0</td>\n",
       "      <td>17.477778</td>\n",
       "      <td>17.477778</td>\n",
       "      <td>0.77</td>\n",
       "      <td>10.4167</td>\n",
       "      <td>329.0</td>\n",
       "      <td>14.9569</td>\n",
       "      <td>1015.25</td>\n",
       "      <td>14.0</td>\n",
       "    </tr>\n",
       "    <tr>\n",
       "      <th>51989</th>\n",
       "      <td>51965.0</td>\n",
       "      <td>5.0</td>\n",
       "      <td>0.0</td>\n",
       "      <td>13.916667</td>\n",
       "      <td>13.916667</td>\n",
       "      <td>0.86</td>\n",
       "      <td>3.2200</td>\n",
       "      <td>40.0</td>\n",
       "      <td>15.8263</td>\n",
       "      <td>1014.69</td>\n",
       "      <td>14.0</td>\n",
       "    </tr>\n",
       "  </tbody>\n",
       "</table>\n",
       "<p>51990 rows × 11 columns</p>\n",
       "</div>"
      ],
      "text/plain": [
       "       Formatted Date  Summary  Precip Type  Temperature (C)  \\\n",
       "0                 0.0      0.0          0.0        10.116667   \n",
       "1                 1.0      1.0          0.0        10.200000   \n",
       "2                 2.0      0.0          0.0        10.422222   \n",
       "3                 3.0      0.0          0.0         9.911111   \n",
       "4                 4.0      1.0          0.0        11.183333   \n",
       "...               ...      ...          ...              ...   \n",
       "51985         51961.0      5.0          0.0        16.505556   \n",
       "51986         51962.0      5.0          0.0        16.577778   \n",
       "51987         51963.0      5.0          0.0        15.027778   \n",
       "51988         51964.0      0.0          0.0        17.477778   \n",
       "51989         51965.0      5.0          0.0        13.916667   \n",
       "\n",
       "       Apparent Temperature (C)  Humidity  Wind Speed (km/h)  \\\n",
       "0                     10.116667      0.79             6.6493   \n",
       "1                     10.200000      0.77             3.9284   \n",
       "2                     10.422222      0.62            16.9855   \n",
       "3                      7.566667      0.66            17.2109   \n",
       "4                     11.183333      0.80            10.8192   \n",
       "...                         ...       ...                ...   \n",
       "51985                 16.505556      0.76             3.0751   \n",
       "51986                 16.577778      0.78             3.2200   \n",
       "51987                 15.027778      0.83             0.0000   \n",
       "51988                 17.477778      0.77            10.4167   \n",
       "51989                 13.916667      0.86             3.2200   \n",
       "\n",
       "       Wind Bearing (degrees)  Visibility (km)  Pressure (millibars)  \\\n",
       "0                       163.0          15.8263               1015.40   \n",
       "1                       152.0          14.9569               1015.51   \n",
       "2                       150.0          15.8263               1014.40   \n",
       "3                       149.0          15.8263               1014.20   \n",
       "4                       163.0          14.9569               1008.71   \n",
       "...                       ...              ...                   ...   \n",
       "51985                   175.0          14.9569               1014.38   \n",
       "51986                   170.0          15.8263               1014.58   \n",
       "51987                     0.0          15.8263               1014.58   \n",
       "51988                   329.0          14.9569               1015.25   \n",
       "51989                    40.0          15.8263               1014.69   \n",
       "\n",
       "       Daily Summary  \n",
       "0                0.0  \n",
       "1                0.0  \n",
       "2                1.0  \n",
       "3                1.0  \n",
       "4                1.0  \n",
       "...              ...  \n",
       "51985           16.0  \n",
       "51986           14.0  \n",
       "51987           14.0  \n",
       "51988           14.0  \n",
       "51989           14.0  \n",
       "\n",
       "[51990 rows x 11 columns]"
      ]
     },
     "execution_count": 25,
     "metadata": {},
     "output_type": "execute_result"
    }
   ],
   "source": [
    "new_df1"
   ]
  },
  {
   "cell_type": "code",
   "execution_count": 32,
   "id": "bf231f7e",
   "metadata": {},
   "outputs": [
    {
     "data": {
      "text/html": [
       "<div>\n",
       "<style scoped>\n",
       "    .dataframe tbody tr th:only-of-type {\n",
       "        vertical-align: middle;\n",
       "    }\n",
       "\n",
       "    .dataframe tbody tr th {\n",
       "        vertical-align: top;\n",
       "    }\n",
       "\n",
       "    .dataframe thead th {\n",
       "        text-align: right;\n",
       "    }\n",
       "</style>\n",
       "<table border=\"1\" class=\"dataframe\">\n",
       "  <thead>\n",
       "    <tr style=\"text-align: right;\">\n",
       "      <th></th>\n",
       "      <th>Temperature (C)</th>\n",
       "      <th>Apparent Temperature (C)</th>\n",
       "      <th>Humidity</th>\n",
       "      <th>Wind Speed (km/h)</th>\n",
       "      <th>Wind Bearing (degrees)</th>\n",
       "      <th>Visibility (km)</th>\n",
       "      <th>Pressure (millibars)</th>\n",
       "    </tr>\n",
       "  </thead>\n",
       "  <tbody>\n",
       "    <tr>\n",
       "      <th>count</th>\n",
       "      <td>51990.000000</td>\n",
       "      <td>51990.000000</td>\n",
       "      <td>51990.000000</td>\n",
       "      <td>51990.000000</td>\n",
       "      <td>51990.000000</td>\n",
       "      <td>51990.000000</td>\n",
       "      <td>51990.000000</td>\n",
       "    </tr>\n",
       "    <tr>\n",
       "      <th>mean</th>\n",
       "      <td>11.660597</td>\n",
       "      <td>10.578419</td>\n",
       "      <td>0.734621</td>\n",
       "      <td>10.368491</td>\n",
       "      <td>189.665532</td>\n",
       "      <td>9.827860</td>\n",
       "      <td>1016.991100</td>\n",
       "    </tr>\n",
       "    <tr>\n",
       "      <th>std</th>\n",
       "      <td>9.633998</td>\n",
       "      <td>10.762596</td>\n",
       "      <td>0.192531</td>\n",
       "      <td>6.178138</td>\n",
       "      <td>107.371633</td>\n",
       "      <td>3.848242</td>\n",
       "      <td>7.560822</td>\n",
       "    </tr>\n",
       "    <tr>\n",
       "      <th>min</th>\n",
       "      <td>-16.666667</td>\n",
       "      <td>-21.555556</td>\n",
       "      <td>0.160000</td>\n",
       "      <td>0.000000</td>\n",
       "      <td>0.000000</td>\n",
       "      <td>0.000000</td>\n",
       "      <td>993.100000</td>\n",
       "    </tr>\n",
       "    <tr>\n",
       "      <th>25%</th>\n",
       "      <td>4.088889</td>\n",
       "      <td>1.938889</td>\n",
       "      <td>0.610000</td>\n",
       "      <td>5.635000</td>\n",
       "      <td>117.250000</td>\n",
       "      <td>8.130500</td>\n",
       "      <td>1012.190000</td>\n",
       "    </tr>\n",
       "    <tr>\n",
       "      <th>50%</th>\n",
       "      <td>11.602778</td>\n",
       "      <td>11.605556</td>\n",
       "      <td>0.780000</td>\n",
       "      <td>9.708300</td>\n",
       "      <td>184.000000</td>\n",
       "      <td>9.982000</td>\n",
       "      <td>1016.675000</td>\n",
       "    </tr>\n",
       "    <tr>\n",
       "      <th>75%</th>\n",
       "      <td>18.733333</td>\n",
       "      <td>18.733333</td>\n",
       "      <td>0.890000</td>\n",
       "      <td>13.958700</td>\n",
       "      <td>290.000000</td>\n",
       "      <td>11.270000</td>\n",
       "      <td>1021.370000</td>\n",
       "    </tr>\n",
       "    <tr>\n",
       "      <th>max</th>\n",
       "      <td>39.905556</td>\n",
       "      <td>38.377778</td>\n",
       "      <td>1.000000</td>\n",
       "      <td>29.430800</td>\n",
       "      <td>359.000000</td>\n",
       "      <td>16.100000</td>\n",
       "      <td>1040.800000</td>\n",
       "    </tr>\n",
       "  </tbody>\n",
       "</table>\n",
       "</div>"
      ],
      "text/plain": [
       "       Temperature (C)  Apparent Temperature (C)      Humidity  \\\n",
       "count     51990.000000              51990.000000  51990.000000   \n",
       "mean         11.660597                 10.578419      0.734621   \n",
       "std           9.633998                 10.762596      0.192531   \n",
       "min         -16.666667                -21.555556      0.160000   \n",
       "25%           4.088889                  1.938889      0.610000   \n",
       "50%          11.602778                 11.605556      0.780000   \n",
       "75%          18.733333                 18.733333      0.890000   \n",
       "max          39.905556                 38.377778      1.000000   \n",
       "\n",
       "       Wind Speed (km/h)  Wind Bearing (degrees)  Visibility (km)  \\\n",
       "count       51990.000000            51990.000000     51990.000000   \n",
       "mean           10.368491              189.665532         9.827860   \n",
       "std             6.178138              107.371633         3.848242   \n",
       "min             0.000000                0.000000         0.000000   \n",
       "25%             5.635000              117.250000         8.130500   \n",
       "50%             9.708300              184.000000         9.982000   \n",
       "75%            13.958700              290.000000        11.270000   \n",
       "max            29.430800              359.000000        16.100000   \n",
       "\n",
       "       Pressure (millibars)  \n",
       "count          51990.000000  \n",
       "mean            1016.991100  \n",
       "std                7.560822  \n",
       "min              993.100000  \n",
       "25%             1012.190000  \n",
       "50%             1016.675000  \n",
       "75%             1021.370000  \n",
       "max             1040.800000  "
      ]
     },
     "execution_count": 32,
     "metadata": {},
     "output_type": "execute_result"
    }
   ],
   "source": [
    "df1[quantitative].describe() "
   ]
  },
  {
   "cell_type": "markdown",
   "id": "34c482ee",
   "metadata": {},
   "source": [
    "# Data Visualization"
   ]
  },
  {
   "cell_type": "code",
   "execution_count": 37,
   "id": "182c7b94",
   "metadata": {},
   "outputs": [
    {
     "data": {
      "text/plain": [
       "array([[<AxesSubplot:title={'center':'Temperature (C)'}>,\n",
       "        <AxesSubplot:title={'center':'Apparent Temperature (C)'}>,\n",
       "        <AxesSubplot:title={'center':'Humidity'}>],\n",
       "       [<AxesSubplot:title={'center':'Wind Speed (km/h)'}>,\n",
       "        <AxesSubplot:title={'center':'Wind Bearing (degrees)'}>,\n",
       "        <AxesSubplot:title={'center':'Visibility (km)'}>],\n",
       "       [<AxesSubplot:title={'center':'Pressure (millibars)'}>,\n",
       "        <AxesSubplot:>, <AxesSubplot:>]], dtype=object)"
      ]
     },
     "execution_count": 37,
     "metadata": {},
     "output_type": "execute_result"
    },
    {
     "data": {
      "image/png": "[encoded data removed]",
      "text/plain": [
       "<Figure size 900x900 with 9 Axes>"
      ]
     },
     "metadata": {},
     "output_type": "display_data"
    }
   ],
   "source": [
    "rcParams['figure.figsize'] = 9, 9\n",
    "df1[quantitative].hist()"
   ]
  },
  {
   "cell_type": "code",
   "execution_count": 38,
   "id": "5def6d72",
   "metadata": {},
   "outputs": [
    {
     "data": {
      "text/plain": [
       "<AxesSubplot:xlabel='count', ylabel='Summary'>"
      ]
     },
     "execution_count": 38,
     "metadata": {},
     "output_type": "execute_result"
    },
    {
     "data": {
      "image/png": "[encoded data removed]",
      "text/plain": [
       "<Figure size 800x500 with 1 Axes>"
      ]
     },
     "metadata": {},
     "output_type": "display_data"
    }
   ],
   "source": [
    "rcParams['figure.figsize'] = 8, 5\n",
    "sns.countplot(y=df1['Summary'])"
   ]
  },
  {
   "cell_type": "code",
   "execution_count": 41,
   "id": "fa7c3b82",
   "metadata": {},
   "outputs": [
    {
     "data": {
      "text/plain": [
       "rain    45409\n",
       "snow     6581\n",
       "Name: Precip Type, dtype: int64"
      ]
     },
     "execution_count": 41,
     "metadata": {},
     "output_type": "execute_result"
    }
   ],
   "source": [
    "df1['Precip Type'].value_counts(dropna=False)"
   ]
  },
  {
   "cell_type": "code",
   "execution_count": 40,
   "id": "50026238",
   "metadata": {},
   "outputs": [
    {
     "data": {
      "text/plain": [
       "<AxesSubplot:xlabel='Precip Type', ylabel='count'>"
      ]
     },
     "execution_count": 40,
     "metadata": {},
     "output_type": "execute_result"
    },
    {
     "data": {
      "image/png": "[encoded data removed]",
      "text/plain": [
       "<Figure size 800x500 with 1 Axes>"
      ]
     },
     "metadata": {},
     "output_type": "display_data"
    }
   ],
   "source": [
    "sns.countplot(x=df1['Precip Type'])"
   ]
  },
  {
   "cell_type": "code",
   "execution_count": 65,
   "id": "ba28489c",
   "metadata": {},
   "outputs": [
    {
     "data": {
      "text/plain": [
       "<AxesSubplot:>"
      ]
     },
     "execution_count": 65,
     "metadata": {},
     "output_type": "execute_result"
    },
    {
     "data": {
      "image/png": "[encoded data removed]",
      "text/plain": [
       "<Figure size 800x600 with 2 Axes>"
      ]
     },
     "metadata": {},
     "output_type": "display_data"
    }
   ],
   "source": [
    "# Lets look at the correlation matrix of our data.\n",
    "fig = plt.figure(figsize=(8,6))\n",
    "ax = fig.add_subplot(111)\n",
    "sns.heatmap(df1.corr(),annot=True)"
   ]
  },
  {
   "cell_type": "markdown",
   "id": "16500fdc",
   "metadata": {},
   "source": [
    "# Model Evaluation"
   ]
  },
  {
   "cell_type": "markdown",
   "id": "59e71652",
   "metadata": {},
   "source": [
    "# Decision Tree Regression using OOPS"
   ]
  },
  {
   "cell_type": "code",
   "execution_count": 59,
   "id": "UlIySBYalZS7",
   "metadata": {
    "id": "UlIySBYalZS7"
   },
   "outputs": [],
   "source": [
    "class DecisionTree:\n",
    "    \n",
    "    def __init__(self):\n",
    "        self.tree = {}\n",
    "    \n",
    "    def find_best_split(self, X, y):\n",
    "        n_features = X.shape[1]\n",
    "        best_feature = None\n",
    "        best_split = None\n",
    "        best_mse = np.inf\n",
    "        \n",
    "        for feature in range(n_features):\n",
    "            values = np.sort(np.unique(X[:, feature]))\n",
    "            splits = (values[:-1] + values[1:]) / 2\n",
    "            \n",
    "            for split in splits:\n",
    "                left_idx = X[:, feature] <= split\n",
    "                right_idx = X[:, feature] > split\n",
    "                \n",
    "                left_y = y[left_idx]\n",
    "                right_y = y[right_idx]\n",
    "                \n",
    "                if len(left_y) == 0 or len(right_y) == 0:\n",
    "                    continue\n",
    "                \n",
    "                mse = ((left_y - np.mean(left_y))**2).sum() + ((right_y - np.mean(right_y))**2).sum()\n",
    "                \n",
    "                if mse < best_mse:\n",
    "                    best_feature = feature\n",
    "                    best_split = split\n",
    "                    best_mse = mse\n",
    "        \n",
    "        return best_feature, best_split\n",
    "    \n",
    "    def fit(self, X, y):\n",
    "        def build_tree(X, y, depth=0):\n",
    "            if depth == 5:\n",
    "                return np.mean(y)\n",
    "            \n",
    "            best_feature, best_split = self.find_best_split(X, y)\n",
    "            \n",
    "            if best_feature is None:\n",
    "                return np.mean(y)\n",
    "            \n",
    "            left_idx = X[:, best_feature] <= best_split\n",
    "            right_idx = X[:, best_feature] > best_split\n",
    "            \n",
    "            left = build_tree(X[left_idx], y[left_idx], depth+1)\n",
    "            right = build_tree(X[right_idx], y[right_idx], depth+1)\n",
    "            \n",
    "            return {'feature': best_feature, 'split': best_split, 'left': left, 'right': right}\n",
    "        \n",
    "        self.tree = build_tree(X, y)\n",
    "    \n",
    "    def predict(self, X):\n",
    "        def predict_sample(x, tree):\n",
    "            if isinstance(tree, float):\n",
    "                return tree\n",
    "            \n",
    "            if x[tree['feature']] <= tree['split']:\n",
    "                return predict_sample(x, tree['left'])\n",
    "            else:\n",
    "                return predict_sample(x, tree['right'])\n",
    "        \n",
    "        return np.array([predict_sample(x, self.tree) for x in X])\n",
    "        \n"
   ]
  },
  {
   "cell_type": "code",
   "execution_count": 60,
   "id": "s1HN_AynlZWA",
   "metadata": {
    "id": "s1HN_AynlZWA"
   },
   "outputs": [],
   "source": [
    "# Split data into training and testing sets\n",
    "train_data = new_df1.sample(frac=0.8, random_state=42)\n",
    "test_data = new_df1.drop(train_data.index)\n",
    "\n",
    "# Split training and testing data into X and y\n",
    "train_X = train_data.drop('Humidity', axis=1).to_numpy()\n",
    "train_y = train_data['Humidity'].to_numpy()\n",
    "\n",
    "test_X = test_data.drop('Humidity', axis=1).to_numpy()\n",
    "test_y = test_data['Humidity'].to_numpy()\n"
   ]
  },
  {
   "cell_type": "code",
   "execution_count": 61,
   "id": "ACSrTRPUlZY9",
   "metadata": {
    "id": "ACSrTRPUlZY9"
   },
   "outputs": [],
   "source": [
    "import time\n",
    "regressor = DecisionTree()\n",
    "\n",
    "start_time = time.time()\n",
    "regressor.fit(train_X, train_y)\n",
    "end_time = time.time()\n",
    "\n",
    "pred_y=regressor.predict(test_X)"
   ]
  },
  {
   "cell_type": "code",
   "execution_count": 62,
   "id": "6f8bc305",
   "metadata": {},
   "outputs": [
    {
     "name": "stdout",
     "output_type": "stream",
     "text": [
      "Mean Absolute Error: 0.0874532905013894\n",
      "Mean Squared Error: 0.013504091847427357\n",
      "Mean Absolute Percentage Error (MAPE): 14.520859272176336\n",
      "R-squared (R2): 0.6381358219225713\n",
      "Root Mean Squared Error (RMSE): 0.11620710755985349\n",
      "Time taken: 132.25206422805786 seconds\n"
     ]
    }
   ],
   "source": [
    "# Assuming pred_y and test_y are the predicted and true values, respectively\n",
    "\n",
    "# Calculate the mean absolute error\n",
    "mae = np.mean(np.abs(pred_y - test_y))\n",
    "print('Mean Absolute Error:', mae)\n",
    "\n",
    "# Calculate the mean squared error \n",
    "mse = np.mean(np.abs(pred_y - test_y)**2)\n",
    "print('Mean Squared Error:', mse)\n",
    "\n",
    "# Calculate the mean absolute percentage error\n",
    "mape = np.mean(np.abs((test_y - pred_y) / test_y)) * 100\n",
    "print('Mean Absolute Percentage Error (MAPE):', mape)\n",
    "\n",
    "# Calculate the residual sum of squares (RSS)\n",
    "rss = np.sum((pred_y - test_y)**2)\n",
    "\n",
    "# Calculate the total sum of squares (TSS)\n",
    "tss = np.sum((test_y - np.mean(test_y))**2)\n",
    "\n",
    "# Calculate the R-squared (R2) value\n",
    "r2 = 1 - (rss / tss)\n",
    "print('R-squared (R2):', r2)\n",
    "\n",
    "# Calculate the Root Mean Squared Error (RMSE)\n",
    "rmse = np.sqrt(np.mean((pred_y - test_y)**2))\n",
    "print('Root Mean Squared Error (RMSE):', rmse)\n",
    "\n",
    "print(\"Time taken:\", end_time - start_time, \"seconds\")"
   ]
  },
  {
   "cell_type": "markdown",
   "id": "1b55547b",
   "metadata": {
    "id": "MIJLy7EalZdk"
   },
   "source": [
    "# Decision tree regression Using sklearn"
   ]
  },
  {
   "cell_type": "code",
   "execution_count": 63,
   "id": "G4Uo8ahKlPPJ",
   "metadata": {
    "colab": {
     "base_uri": "https://localhost:8080/"
    },
    "id": "G4Uo8ahKlPPJ",
    "outputId": "a0da8d37-efad-40ec-f2d2-2ec4a52adab7"
   },
   "outputs": [
    {
     "name": "stdout",
     "output_type": "stream",
     "text": [
      "Mean Absolute Error: 0.07028370840546258\n",
      "Mean Squared Error: 0.011565945374110407\n",
      "Mean Absolute Percentage Error (MAPE):  0.10898863347630472\n",
      "R-squared (R2):  0.6821676981132487\n",
      "Root Mean Squared Error (RMSE):  0.107545085308955\n",
      "Time taken: 0.5320663452148438 seconds\n"
     ]
    }
   ],
   "source": [
    "# Import necessary libraries\n",
    "import pandas as pd\n",
    "from sklearn.tree import DecisionTreeRegressor\n",
    "from sklearn.model_selection import train_test_split\n",
    "from sklearn.metrics import mean_squared_error, r2_score, mean_absolute_percentage_error, mean_absolute_error\n",
    "\n",
    "# Define features and target\n",
    "X = new_df1.drop('Humidity', axis=1)\n",
    "y = new_df1['Humidity']\n",
    "\n",
    "# Split dataset into training and test sets\n",
    "X_train, X_test, y_train, y_test = train_test_split(X, y, test_size=0.2, random_state=42)\n",
    "\n",
    "import time\n",
    "start_time = time.time()\n",
    "dt_regressor = DecisionTreeRegressor()\n",
    "dt_regressor.fit(X_train, y_train)\n",
    "end_time = time.time()\n",
    "\n",
    "# Predict on the test data\n",
    "y_pred = dt_regressor.predict(X_test)\n",
    "\n",
    "mae = mean_absolute_error(y_test, y_pred)\n",
    "mse = mean_squared_error(y_test, y_pred)\n",
    "mape = mean_absolute_percentage_error(y_test, y_pred)\n",
    "r2 = r2_score(y_test, y_pred)\n",
    "rmse = np.sqrt(mse)\n",
    "\n",
    "print(\"Mean Absolute Error:\", mae)\n",
    "print('Mean Squared Error:', mse)\n",
    "print(\"Mean Absolute Percentage Error (MAPE): \", mape)\n",
    "print(\"R-squared (R2): \", r2)\n",
    "print(\"Root Mean Squared Error (RMSE): \", rmse)\n",
    "\n",
    "print(\"Time taken:\", end_time - start_time, \"seconds\")"
   ]
  },
  {
   "cell_type": "markdown",
   "id": "c5eb0702",
   "metadata": {
    "id": "kK1JGRRSodrj"
   },
   "source": [
    "# Comparing the Model"
   ]
  },
  {
   "cell_type": "code",
   "execution_count": 74,
   "id": "whJD-gpBoduJ",
   "metadata": {
    "id": "whJD-gpBoduJ"
   },
   "outputs": [
    {
     "name": "stdout",
     "output_type": "stream",
     "text": [
      "Decision Tree Regression Result\n",
      "\n",
      "\n",
      "                           Column  using OOPS   using sklearn\n",
      "0             Mean Absolute Error     0.087450       0.070280\n",
      "1              Mean Squared Error     0.013504       0.011566\n",
      "2  Mean Absolute Percentage Error    14.520859       0.108988\n",
      "3                       R-squared     0.638136       0.682200\n",
      "4         Root Mean Squared Error     0.116207       0.107545\n",
      "5                      Time Stamp   132.252064       0.532066\n"
     ]
    }
   ],
   "source": [
    "print(\"Decision Tree Regression Result\")\n",
    "# code 1\n",
    "result1 = [0.08745,0.013504,14.520859,0.6381358,0.116207,132.252064]\n",
    "df1 = pd.DataFrame({'using OOPS ': result1})\n",
    "\n",
    "# code 2\n",
    "result2 = [0.07028, 0.011566, 0.108988,0.6822,0.107545,0.532066]\n",
    "df2 = pd.DataFrame({'using sklearn': result2})\n",
    "\n",
    "# code 3\n",
    "result3 = ['Mean Absolute Error','Mean Squared Error','Mean Absolute Percentage Error','R-squared','Root Mean Squared Error','Time Stamp']\n",
    "df3 = pd.DataFrame({'Column': result3})\n",
    "\n",
    "\n",
    "# display the results in a table\n",
    "df = pd.concat([df3, df1, df2,], axis=1)\n",
    "\n",
    "print(\"\\n\")\n",
    "print(df)"
   ]
  },
  {
   "cell_type": "markdown",
   "id": "d55acd8a",
   "metadata": {},
   "source": [
    "# 1.Bar Plot"
   ]
  },
  {
   "cell_type": "code",
   "execution_count": 72,
   "id": "68c10440",
   "metadata": {},
   "outputs": [
    {
     "data": {
      "image/png": "[encoded data removed]",
      "text/plain": [
       "<Figure size 800x500 with 1 Axes>"
      ]
     },
     "metadata": {},
     "output_type": "display_data"
    }
   ],
   "source": [
    "# Define the data for each scenario\n",
    "OOPS = [0.08745,0.013504,14.520859,0.6381358,0.116207,132.252064]\n",
    "sklearn = [0.07028, 0.011566, 0.108988,0.6822,0.107545,0.532066]\n",
    "\n",
    "# Define the labels for each performance measure\n",
    "labels = ['MAE','MSE','MAPE','R2','RMSE','Time Stamp']\n",
    "\n",
    "# Define the x-axis ticks and group labels\n",
    "x = np.arange(len(labels))\n",
    "group_labels = ['OOPS','sklearn ']\n",
    "\n",
    "# Define the bar width\n",
    "width = 0.2\n",
    "\n",
    "# Create the figure and axes objects\n",
    "fig, ax = plt.subplots()\n",
    "\n",
    "# Plot the bars for each scenario\n",
    "ax.bar(x - width, OOPS, width, label='OOPS')\n",
    "ax.bar(x + width, sklearn, width, label='sklearn')\n",
    "\n",
    "# Add labels, title, and legend\n",
    "ax.set_ylabel('Performance')\n",
    "ax.set_xticks(x)\n",
    "ax.set_xticklabels(labels)\n",
    "ax.set_title('Decision Tree Regression Performance')\n",
    "ax.legend()\n",
    "\n",
    "# Show the plot\n",
    "plt.show()"
   ]
  },
  {
   "cell_type": "markdown",
   "id": "c12f0991",
   "metadata": {},
   "source": [
    "# 2.Line Graph"
   ]
  },
  {
   "cell_type": "code",
   "execution_count": 73,
   "id": "94316d81",
   "metadata": {},
   "outputs": [
    {
     "data": {
      "image/png": "[encoded data removed]",
      "text/plain": [
       "<Figure size 800x500 with 1 Axes>"
      ]
     },
     "metadata": {},
     "output_type": "display_data"
    }
   ],
   "source": [
    "# Define the data for each scenario\n",
    "OOPS = [0.08745,0.013504,14.520859,0.6381358,0.116207,132.252064]\n",
    "sklearn = [0.07028, 0.011566, 0.108988,0.6822,0.107545,0.532066]\n",
    "\n",
    "# Define the labels for each performance measure\n",
    "labels = ['MAE','MSE','MAPE','R2','RMSE','Time Stamp']\n",
    "\n",
    "# Define the x-axis ticks\n",
    "x = np.arange(len(labels))\n",
    "\n",
    "# Create the figure and axes objects\n",
    "fig, ax = plt.subplots()\n",
    "\n",
    "# Plot the lines for each scenario\n",
    "ax.plot(x, OOPS, label='OOPS')\n",
    "ax.plot(x, sklearn, label='sklearn')\n",
    "\n",
    "# Add labels, title, and legend\n",
    "ax.set_xlabel('Performance Measure')\n",
    "ax.set_xticks(x)\n",
    "ax.set_xticklabels(labels)\n",
    "ax.set_ylabel('Performance')\n",
    "ax.set_title('Decision Tree Regression Performance')\n",
    "ax.legend()\n",
    "\n",
    "# Show the plot\n",
    "plt.show()"
   ]
  },
  {
   "cell_type": "code",
   "execution_count": null,
   "id": "cd42f369",
   "metadata": {},
   "outputs": [],
   "source": []
  }
 ],
 "metadata": {
  "colab": {
   "provenance": []
  },
  "kernelspec": {
   "display_name": "Python 3 (ipykernel)",
   "language": "python",
   "name": "python3"
  },
  "language_info": {
   "codemirror_mode": {
    "name": "ipython",
    "version": 3
   },
   "file_extension": ".py",
   "mimetype": "text/x-python",
   "name": "python",
   "nbconvert_exporter": "python",
   "pygments_lexer": "ipython3",
   "version": "3.9.13"
  }
 },
 "nbformat": 4,
 "nbformat_minor": 5
}
