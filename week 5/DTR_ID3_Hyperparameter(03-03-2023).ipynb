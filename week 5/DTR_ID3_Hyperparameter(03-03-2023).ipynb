{
 "cells": [
  {
   "cell_type": "markdown",
   "id": "6f5727ca",
   "metadata": {},
   "source": [
    "# Description"
   ]
  },
  {
   "cell_type": "markdown",
   "id": "4e5e2b83",
   "metadata": {},
   "source": [
    "Wine quality detection refers to the process of assessing the quality of wine based on various sensory and chemical characteristics. The quality of wine is determined by factors such as acidity, alcohol content,residual sugar, chlorides and density among others.\n",
    "\n",
    "In traditional wine production, quality control is typically performed by human experts who taste and evaluate the wine based on their sensory perception. However, this process can be time-consuming, subjective, and may not be consistent across different tasters."
   ]
  },
  {
   "cell_type": "markdown",
   "id": "70a9bdea",
   "metadata": {},
   "source": [
    "# Problem Statement"
   ]
  },
  {
   "cell_type": "markdown",
   "id": "7b78ed2d",
   "metadata": {},
   "source": [
    "The challenge is to create a decision tree ID3 model that can accurately predict the quality rating of red wine based on its physicochemical properties, such as acidity, alcohol content, and volatile acidity."
   ]
  },
  {
   "cell_type": "markdown",
   "id": "b944055c",
   "metadata": {},
   "source": [
    "# Importing Necessary Libraries"
   ]
  },
  {
   "cell_type": "code",
   "execution_count": 1,
   "id": "61d782b9",
   "metadata": {},
   "outputs": [],
   "source": [
    "import pandas as pd     # used to perform mathematical operation on array\n",
    "import numpy as np      # used for data manipulation\n",
    "import warnings\n",
    "warnings.filterwarnings('ignore')"
   ]
  },
  {
   "cell_type": "code",
   "execution_count": 2,
   "id": "461ce1f6",
   "metadata": {},
   "outputs": [],
   "source": [
    "wine= pd.read_csv(\"winequality-red.csv\")"
   ]
  },
  {
   "cell_type": "markdown",
   "id": "f641344c",
   "metadata": {},
   "source": [
    "# Exploratory Data Analysis"
   ]
  },
  {
   "cell_type": "code",
   "execution_count": 3,
   "id": "09a272f7",
   "metadata": {},
   "outputs": [
    {
     "data": {
      "text/plain": [
       "(1599, 12)"
      ]
     },
     "execution_count": 3,
     "metadata": {},
     "output_type": "execute_result"
    }
   ],
   "source": [
    "wine.shape     # Finding number of rows and columns"
   ]
  },
  {
   "cell_type": "code",
   "execution_count": 4,
   "id": "f5da654a",
   "metadata": {},
   "outputs": [
    {
     "data": {
      "text/html": [
       "<div>\n",
       "<style scoped>\n",
       "    .dataframe tbody tr th:only-of-type {\n",
       "        vertical-align: middle;\n",
       "    }\n",
       "\n",
       "    .dataframe tbody tr th {\n",
       "        vertical-align: top;\n",
       "    }\n",
       "\n",
       "    .dataframe thead th {\n",
       "        text-align: right;\n",
       "    }\n",
       "</style>\n",
       "<table border=\"1\" class=\"dataframe\">\n",
       "  <thead>\n",
       "    <tr style=\"text-align: right;\">\n",
       "      <th></th>\n",
       "      <th>fixed acidity</th>\n",
       "      <th>volatile acidity</th>\n",
       "      <th>citric acid</th>\n",
       "      <th>residual sugar</th>\n",
       "      <th>chlorides</th>\n",
       "      <th>free sulfur dioxide</th>\n",
       "      <th>total sulfur dioxide</th>\n",
       "      <th>density</th>\n",
       "      <th>pH</th>\n",
       "      <th>sulphates</th>\n",
       "      <th>alcohol</th>\n",
       "      <th>quality</th>\n",
       "    </tr>\n",
       "  </thead>\n",
       "  <tbody>\n",
       "    <tr>\n",
       "      <th>count</th>\n",
       "      <td>1599.000000</td>\n",
       "      <td>1599.000000</td>\n",
       "      <td>1599.000000</td>\n",
       "      <td>1599.000000</td>\n",
       "      <td>1599.000000</td>\n",
       "      <td>1599.000000</td>\n",
       "      <td>1599.000000</td>\n",
       "      <td>1599.000000</td>\n",
       "      <td>1599.000000</td>\n",
       "      <td>1599.000000</td>\n",
       "      <td>1599.000000</td>\n",
       "      <td>1599.000000</td>\n",
       "    </tr>\n",
       "    <tr>\n",
       "      <th>mean</th>\n",
       "      <td>8.319637</td>\n",
       "      <td>0.527821</td>\n",
       "      <td>0.270976</td>\n",
       "      <td>2.538806</td>\n",
       "      <td>0.087467</td>\n",
       "      <td>15.874922</td>\n",
       "      <td>46.467792</td>\n",
       "      <td>0.996747</td>\n",
       "      <td>3.311113</td>\n",
       "      <td>0.658149</td>\n",
       "      <td>10.422983</td>\n",
       "      <td>5.636023</td>\n",
       "    </tr>\n",
       "    <tr>\n",
       "      <th>std</th>\n",
       "      <td>1.741096</td>\n",
       "      <td>0.179060</td>\n",
       "      <td>0.194801</td>\n",
       "      <td>1.409928</td>\n",
       "      <td>0.047065</td>\n",
       "      <td>10.460157</td>\n",
       "      <td>32.895324</td>\n",
       "      <td>0.001887</td>\n",
       "      <td>0.154386</td>\n",
       "      <td>0.169507</td>\n",
       "      <td>1.065668</td>\n",
       "      <td>0.807569</td>\n",
       "    </tr>\n",
       "    <tr>\n",
       "      <th>min</th>\n",
       "      <td>4.600000</td>\n",
       "      <td>0.120000</td>\n",
       "      <td>0.000000</td>\n",
       "      <td>0.900000</td>\n",
       "      <td>0.012000</td>\n",
       "      <td>1.000000</td>\n",
       "      <td>6.000000</td>\n",
       "      <td>0.990070</td>\n",
       "      <td>2.740000</td>\n",
       "      <td>0.330000</td>\n",
       "      <td>8.400000</td>\n",
       "      <td>3.000000</td>\n",
       "    </tr>\n",
       "    <tr>\n",
       "      <th>25%</th>\n",
       "      <td>7.100000</td>\n",
       "      <td>0.390000</td>\n",
       "      <td>0.090000</td>\n",
       "      <td>1.900000</td>\n",
       "      <td>0.070000</td>\n",
       "      <td>7.000000</td>\n",
       "      <td>22.000000</td>\n",
       "      <td>0.995600</td>\n",
       "      <td>3.210000</td>\n",
       "      <td>0.550000</td>\n",
       "      <td>9.500000</td>\n",
       "      <td>5.000000</td>\n",
       "    </tr>\n",
       "    <tr>\n",
       "      <th>50%</th>\n",
       "      <td>7.900000</td>\n",
       "      <td>0.520000</td>\n",
       "      <td>0.260000</td>\n",
       "      <td>2.200000</td>\n",
       "      <td>0.079000</td>\n",
       "      <td>14.000000</td>\n",
       "      <td>38.000000</td>\n",
       "      <td>0.996750</td>\n",
       "      <td>3.310000</td>\n",
       "      <td>0.620000</td>\n",
       "      <td>10.200000</td>\n",
       "      <td>6.000000</td>\n",
       "    </tr>\n",
       "    <tr>\n",
       "      <th>75%</th>\n",
       "      <td>9.200000</td>\n",
       "      <td>0.640000</td>\n",
       "      <td>0.420000</td>\n",
       "      <td>2.600000</td>\n",
       "      <td>0.090000</td>\n",
       "      <td>21.000000</td>\n",
       "      <td>62.000000</td>\n",
       "      <td>0.997835</td>\n",
       "      <td>3.400000</td>\n",
       "      <td>0.730000</td>\n",
       "      <td>11.100000</td>\n",
       "      <td>6.000000</td>\n",
       "    </tr>\n",
       "    <tr>\n",
       "      <th>max</th>\n",
       "      <td>15.900000</td>\n",
       "      <td>1.580000</td>\n",
       "      <td>1.000000</td>\n",
       "      <td>15.500000</td>\n",
       "      <td>0.611000</td>\n",
       "      <td>72.000000</td>\n",
       "      <td>289.000000</td>\n",
       "      <td>1.003690</td>\n",
       "      <td>4.010000</td>\n",
       "      <td>2.000000</td>\n",
       "      <td>14.900000</td>\n",
       "      <td>8.000000</td>\n",
       "    </tr>\n",
       "  </tbody>\n",
       "</table>\n",
       "</div>"
      ],
      "text/plain": [
       "       fixed acidity  volatile acidity  citric acid  residual sugar  \\\n",
       "count    1599.000000       1599.000000  1599.000000     1599.000000   \n",
       "mean        8.319637          0.527821     0.270976        2.538806   \n",
       "std         1.741096          0.179060     0.194801        1.409928   \n",
       "min         4.600000          0.120000     0.000000        0.900000   \n",
       "25%         7.100000          0.390000     0.090000        1.900000   \n",
       "50%         7.900000          0.520000     0.260000        2.200000   \n",
       "75%         9.200000          0.640000     0.420000        2.600000   \n",
       "max        15.900000          1.580000     1.000000       15.500000   \n",
       "\n",
       "         chlorides  free sulfur dioxide  total sulfur dioxide      density  \\\n",
       "count  1599.000000          1599.000000           1599.000000  1599.000000   \n",
       "mean      0.087467            15.874922             46.467792     0.996747   \n",
       "std       0.047065            10.460157             32.895324     0.001887   \n",
       "min       0.012000             1.000000              6.000000     0.990070   \n",
       "25%       0.070000             7.000000             22.000000     0.995600   \n",
       "50%       0.079000            14.000000             38.000000     0.996750   \n",
       "75%       0.090000            21.000000             62.000000     0.997835   \n",
       "max       0.611000            72.000000            289.000000     1.003690   \n",
       "\n",
       "                pH    sulphates      alcohol      quality  \n",
       "count  1599.000000  1599.000000  1599.000000  1599.000000  \n",
       "mean      3.311113     0.658149    10.422983     5.636023  \n",
       "std       0.154386     0.169507     1.065668     0.807569  \n",
       "min       2.740000     0.330000     8.400000     3.000000  \n",
       "25%       3.210000     0.550000     9.500000     5.000000  \n",
       "50%       3.310000     0.620000    10.200000     6.000000  \n",
       "75%       3.400000     0.730000    11.100000     6.000000  \n",
       "max       4.010000     2.000000    14.900000     8.000000  "
      ]
     },
     "execution_count": 4,
     "metadata": {},
     "output_type": "execute_result"
    }
   ],
   "source": [
    "wine.describe()    # Returns description of the data"
   ]
  },
  {
   "cell_type": "code",
   "execution_count": 5,
   "id": "87af5966",
   "metadata": {},
   "outputs": [
    {
     "data": {
      "text/html": [
       "<div>\n",
       "<style scoped>\n",
       "    .dataframe tbody tr th:only-of-type {\n",
       "        vertical-align: middle;\n",
       "    }\n",
       "\n",
       "    .dataframe tbody tr th {\n",
       "        vertical-align: top;\n",
       "    }\n",
       "\n",
       "    .dataframe thead th {\n",
       "        text-align: right;\n",
       "    }\n",
       "</style>\n",
       "<table border=\"1\" class=\"dataframe\">\n",
       "  <thead>\n",
       "    <tr style=\"text-align: right;\">\n",
       "      <th></th>\n",
       "      <th>fixed acidity</th>\n",
       "      <th>volatile acidity</th>\n",
       "      <th>citric acid</th>\n",
       "      <th>residual sugar</th>\n",
       "      <th>chlorides</th>\n",
       "      <th>free sulfur dioxide</th>\n",
       "      <th>total sulfur dioxide</th>\n",
       "      <th>density</th>\n",
       "      <th>pH</th>\n",
       "      <th>sulphates</th>\n",
       "      <th>alcohol</th>\n",
       "      <th>quality</th>\n",
       "    </tr>\n",
       "  </thead>\n",
       "  <tbody>\n",
       "    <tr>\n",
       "      <th>0</th>\n",
       "      <td>7.4</td>\n",
       "      <td>0.70</td>\n",
       "      <td>0.00</td>\n",
       "      <td>1.9</td>\n",
       "      <td>0.076</td>\n",
       "      <td>11.0</td>\n",
       "      <td>34.0</td>\n",
       "      <td>0.9978</td>\n",
       "      <td>3.51</td>\n",
       "      <td>0.56</td>\n",
       "      <td>9.4</td>\n",
       "      <td>5</td>\n",
       "    </tr>\n",
       "    <tr>\n",
       "      <th>1</th>\n",
       "      <td>7.8</td>\n",
       "      <td>0.88</td>\n",
       "      <td>0.00</td>\n",
       "      <td>2.6</td>\n",
       "      <td>0.098</td>\n",
       "      <td>25.0</td>\n",
       "      <td>67.0</td>\n",
       "      <td>0.9968</td>\n",
       "      <td>3.20</td>\n",
       "      <td>0.68</td>\n",
       "      <td>9.8</td>\n",
       "      <td>5</td>\n",
       "    </tr>\n",
       "    <tr>\n",
       "      <th>2</th>\n",
       "      <td>7.8</td>\n",
       "      <td>0.76</td>\n",
       "      <td>0.04</td>\n",
       "      <td>2.3</td>\n",
       "      <td>0.092</td>\n",
       "      <td>15.0</td>\n",
       "      <td>54.0</td>\n",
       "      <td>0.9970</td>\n",
       "      <td>3.26</td>\n",
       "      <td>0.65</td>\n",
       "      <td>9.8</td>\n",
       "      <td>5</td>\n",
       "    </tr>\n",
       "    <tr>\n",
       "      <th>3</th>\n",
       "      <td>11.2</td>\n",
       "      <td>0.28</td>\n",
       "      <td>0.56</td>\n",
       "      <td>1.9</td>\n",
       "      <td>0.075</td>\n",
       "      <td>17.0</td>\n",
       "      <td>60.0</td>\n",
       "      <td>0.9980</td>\n",
       "      <td>3.16</td>\n",
       "      <td>0.58</td>\n",
       "      <td>9.8</td>\n",
       "      <td>6</td>\n",
       "    </tr>\n",
       "    <tr>\n",
       "      <th>4</th>\n",
       "      <td>7.4</td>\n",
       "      <td>0.70</td>\n",
       "      <td>0.00</td>\n",
       "      <td>1.9</td>\n",
       "      <td>0.076</td>\n",
       "      <td>11.0</td>\n",
       "      <td>34.0</td>\n",
       "      <td>0.9978</td>\n",
       "      <td>3.51</td>\n",
       "      <td>0.56</td>\n",
       "      <td>9.4</td>\n",
       "      <td>5</td>\n",
       "    </tr>\n",
       "  </tbody>\n",
       "</table>\n",
       "</div>"
      ],
      "text/plain": [
       "   fixed acidity  volatile acidity  citric acid  residual sugar  chlorides  \\\n",
       "0            7.4              0.70         0.00             1.9      0.076   \n",
       "1            7.8              0.88         0.00             2.6      0.098   \n",
       "2            7.8              0.76         0.04             2.3      0.092   \n",
       "3           11.2              0.28         0.56             1.9      0.075   \n",
       "4            7.4              0.70         0.00             1.9      0.076   \n",
       "\n",
       "   free sulfur dioxide  total sulfur dioxide  density    pH  sulphates  \\\n",
       "0                 11.0                  34.0   0.9978  3.51       0.56   \n",
       "1                 25.0                  67.0   0.9968  3.20       0.68   \n",
       "2                 15.0                  54.0   0.9970  3.26       0.65   \n",
       "3                 17.0                  60.0   0.9980  3.16       0.58   \n",
       "4                 11.0                  34.0   0.9978  3.51       0.56   \n",
       "\n",
       "   alcohol  quality  \n",
       "0      9.4        5  \n",
       "1      9.8        5  \n",
       "2      9.8        5  \n",
       "3      9.8        6  \n",
       "4      9.4        5  "
      ]
     },
     "execution_count": 5,
     "metadata": {},
     "output_type": "execute_result"
    }
   ],
   "source": [
    "wine.head()     # Checking the first 5 rows"
   ]
  },
  {
   "cell_type": "code",
   "execution_count": 6,
   "id": "346b02c2",
   "metadata": {},
   "outputs": [
    {
     "data": {
      "text/html": [
       "<div>\n",
       "<style scoped>\n",
       "    .dataframe tbody tr th:only-of-type {\n",
       "        vertical-align: middle;\n",
       "    }\n",
       "\n",
       "    .dataframe tbody tr th {\n",
       "        vertical-align: top;\n",
       "    }\n",
       "\n",
       "    .dataframe thead th {\n",
       "        text-align: right;\n",
       "    }\n",
       "</style>\n",
       "<table border=\"1\" class=\"dataframe\">\n",
       "  <thead>\n",
       "    <tr style=\"text-align: right;\">\n",
       "      <th></th>\n",
       "      <th>fixed acidity</th>\n",
       "      <th>volatile acidity</th>\n",
       "      <th>citric acid</th>\n",
       "      <th>residual sugar</th>\n",
       "      <th>chlorides</th>\n",
       "      <th>free sulfur dioxide</th>\n",
       "      <th>total sulfur dioxide</th>\n",
       "      <th>density</th>\n",
       "      <th>pH</th>\n",
       "      <th>sulphates</th>\n",
       "      <th>alcohol</th>\n",
       "      <th>quality</th>\n",
       "    </tr>\n",
       "  </thead>\n",
       "  <tbody>\n",
       "    <tr>\n",
       "      <th>1594</th>\n",
       "      <td>6.2</td>\n",
       "      <td>0.600</td>\n",
       "      <td>0.08</td>\n",
       "      <td>2.0</td>\n",
       "      <td>0.090</td>\n",
       "      <td>32.0</td>\n",
       "      <td>44.0</td>\n",
       "      <td>0.99490</td>\n",
       "      <td>3.45</td>\n",
       "      <td>0.58</td>\n",
       "      <td>10.5</td>\n",
       "      <td>5</td>\n",
       "    </tr>\n",
       "    <tr>\n",
       "      <th>1595</th>\n",
       "      <td>5.9</td>\n",
       "      <td>0.550</td>\n",
       "      <td>0.10</td>\n",
       "      <td>2.2</td>\n",
       "      <td>0.062</td>\n",
       "      <td>39.0</td>\n",
       "      <td>51.0</td>\n",
       "      <td>0.99512</td>\n",
       "      <td>3.52</td>\n",
       "      <td>0.76</td>\n",
       "      <td>11.2</td>\n",
       "      <td>6</td>\n",
       "    </tr>\n",
       "    <tr>\n",
       "      <th>1596</th>\n",
       "      <td>6.3</td>\n",
       "      <td>0.510</td>\n",
       "      <td>0.13</td>\n",
       "      <td>2.3</td>\n",
       "      <td>0.076</td>\n",
       "      <td>29.0</td>\n",
       "      <td>40.0</td>\n",
       "      <td>0.99574</td>\n",
       "      <td>3.42</td>\n",
       "      <td>0.75</td>\n",
       "      <td>11.0</td>\n",
       "      <td>6</td>\n",
       "    </tr>\n",
       "    <tr>\n",
       "      <th>1597</th>\n",
       "      <td>5.9</td>\n",
       "      <td>0.645</td>\n",
       "      <td>0.12</td>\n",
       "      <td>2.0</td>\n",
       "      <td>0.075</td>\n",
       "      <td>32.0</td>\n",
       "      <td>44.0</td>\n",
       "      <td>0.99547</td>\n",
       "      <td>3.57</td>\n",
       "      <td>0.71</td>\n",
       "      <td>10.2</td>\n",
       "      <td>5</td>\n",
       "    </tr>\n",
       "    <tr>\n",
       "      <th>1598</th>\n",
       "      <td>6.0</td>\n",
       "      <td>0.310</td>\n",
       "      <td>0.47</td>\n",
       "      <td>3.6</td>\n",
       "      <td>0.067</td>\n",
       "      <td>18.0</td>\n",
       "      <td>42.0</td>\n",
       "      <td>0.99549</td>\n",
       "      <td>3.39</td>\n",
       "      <td>0.66</td>\n",
       "      <td>11.0</td>\n",
       "      <td>6</td>\n",
       "    </tr>\n",
       "  </tbody>\n",
       "</table>\n",
       "</div>"
      ],
      "text/plain": [
       "      fixed acidity  volatile acidity  citric acid  residual sugar  chlorides  \\\n",
       "1594            6.2             0.600         0.08             2.0      0.090   \n",
       "1595            5.9             0.550         0.10             2.2      0.062   \n",
       "1596            6.3             0.510         0.13             2.3      0.076   \n",
       "1597            5.9             0.645         0.12             2.0      0.075   \n",
       "1598            6.0             0.310         0.47             3.6      0.067   \n",
       "\n",
       "      free sulfur dioxide  total sulfur dioxide  density    pH  sulphates  \\\n",
       "1594                 32.0                  44.0  0.99490  3.45       0.58   \n",
       "1595                 39.0                  51.0  0.99512  3.52       0.76   \n",
       "1596                 29.0                  40.0  0.99574  3.42       0.75   \n",
       "1597                 32.0                  44.0  0.99547  3.57       0.71   \n",
       "1598                 18.0                  42.0  0.99549  3.39       0.66   \n",
       "\n",
       "      alcohol  quality  \n",
       "1594     10.5        5  \n",
       "1595     11.2        6  \n",
       "1596     11.0        6  \n",
       "1597     10.2        5  \n",
       "1598     11.0        6  "
      ]
     },
     "execution_count": 6,
     "metadata": {},
     "output_type": "execute_result"
    }
   ],
   "source": [
    "wine.tail()      # Checking the last 5 rows"
   ]
  },
  {
   "cell_type": "code",
   "execution_count": 7,
   "id": "55a606ce",
   "metadata": {},
   "outputs": [
    {
     "name": "stdout",
     "output_type": "stream",
     "text": [
      "<class 'pandas.core.frame.DataFrame'>\n",
      "RangeIndex: 1599 entries, 0 to 1598\n",
      "Data columns (total 12 columns):\n",
      " #   Column                Non-Null Count  Dtype  \n",
      "---  ------                --------------  -----  \n",
      " 0   fixed acidity         1599 non-null   float64\n",
      " 1   volatile acidity      1599 non-null   float64\n",
      " 2   citric acid           1599 non-null   float64\n",
      " 3   residual sugar        1599 non-null   float64\n",
      " 4   chlorides             1599 non-null   float64\n",
      " 5   free sulfur dioxide   1599 non-null   float64\n",
      " 6   total sulfur dioxide  1599 non-null   float64\n",
      " 7   density               1599 non-null   float64\n",
      " 8   pH                    1599 non-null   float64\n",
      " 9   sulphates             1599 non-null   float64\n",
      " 10  alcohol               1599 non-null   float64\n",
      " 11  quality               1599 non-null   int64  \n",
      "dtypes: float64(11), int64(1)\n",
      "memory usage: 150.0 KB\n"
     ]
    }
   ],
   "source": [
    "wine.info()       # checking the information about the dataframe"
   ]
  },
  {
   "cell_type": "markdown",
   "id": "b3455ca7",
   "metadata": {},
   "source": [
    "# Data Preprocessing"
   ]
  },
  {
   "cell_type": "code",
   "execution_count": 8,
   "id": "16eba059",
   "metadata": {},
   "outputs": [
    {
     "data": {
      "text/plain": [
       "fixed acidity           0\n",
       "volatile acidity        0\n",
       "citric acid             0\n",
       "residual sugar          0\n",
       "chlorides               0\n",
       "free sulfur dioxide     0\n",
       "total sulfur dioxide    0\n",
       "density                 0\n",
       "pH                      0\n",
       "sulphates               0\n",
       "alcohol                 0\n",
       "quality                 0\n",
       "dtype: int64"
      ]
     },
     "execution_count": 8,
     "metadata": {},
     "output_type": "execute_result"
    }
   ],
   "source": [
    "wine.isnull().sum().sort_values(ascending=False)      # Checking the null(missing) values"
   ]
  },
  {
   "cell_type": "code",
   "execution_count": 9,
   "id": "fed71f58",
   "metadata": {},
   "outputs": [
    {
     "data": {
      "text/plain": [
       "Index(['quality'], dtype='object')"
      ]
     },
     "execution_count": 9,
     "metadata": {},
     "output_type": "execute_result"
    }
   ],
   "source": [
    "num_attr=wine.select_dtypes(['int']).columns  \n",
    "num_attr"
   ]
  },
  {
   "cell_type": "code",
   "execution_count": 10,
   "id": "6d4f7a3c",
   "metadata": {},
   "outputs": [
    {
     "data": {
      "text/plain": [
       "Index([], dtype='object')"
      ]
     },
     "execution_count": 10,
     "metadata": {},
     "output_type": "execute_result"
    }
   ],
   "source": [
    "cat_attr = wine.select_dtypes('object').columns\n",
    "cat_attr"
   ]
  },
  {
   "cell_type": "markdown",
   "id": "f80d203b",
   "metadata": {},
   "source": [
    "# Outlier detection"
   ]
  },
  {
   "cell_type": "code",
   "execution_count": 11,
   "id": "ec411b87",
   "metadata": {},
   "outputs": [
    {
     "name": "stdout",
     "output_type": "stream",
     "text": [
      "13 outliers detected in alcohol\n",
      "35 outliers detected in pH\n",
      "155 outliers detected in residual sugar\n"
     ]
    }
   ],
   "source": [
    "# Define the features to check for outliers\n",
    "features = ['alcohol','pH','residual sugar']\n",
    "\n",
    "# Define a function to detect outliers based on the interquartile range (IQR)\n",
    "def detect_outliers_IQR(data, threshold=1.5):\n",
    "    \"\"\"\n",
    "    Detects outliers in a 1D array using the interquartile range (IQR) method.\n",
    "    \n",
    "    Args:\n",
    "        data (np.ndarray): A 1D array of data.\n",
    "        threshold (float): A threshold multiplier for the IQR.      \n",
    "    Returns:\n",
    "        np.ndarray: A boolean array indicating the outliers.\n",
    "    \"\"\"\n",
    "    Q1 = np.percentile(data, 25)\n",
    "    Q3 = np.percentile(data, 75)\n",
    "    IQR = Q3 - Q1\n",
    "    upper_bound = Q3 + threshold*IQR\n",
    "    lower_bound = Q1 - threshold*IQR\n",
    "    outliers = (data > upper_bound) | (data < lower_bound)\n",
    "    return outliers\n",
    "\n",
    "# Check for outliers in each feature\n",
    "for feature in features:\n",
    "    outliers = detect_outliers_IQR(wine[feature].dropna())\n",
    "    n_outliers = np.sum(outliers)\n",
    "    print(f'{n_outliers} outliers detected in {feature}')"
   ]
  },
  {
   "cell_type": "markdown",
   "id": "503146a4",
   "metadata": {},
   "source": [
    "# Outlier treatment"
   ]
  },
  {
   "cell_type": "code",
   "execution_count": 12,
   "id": "bce3c362",
   "metadata": {},
   "outputs": [
    {
     "name": "stdout",
     "output_type": "stream",
     "text": [
      "13 outliers removed from alcohol\n",
      "35 outliers removed from pH\n",
      "155 outliers removed from residual sugar\n"
     ]
    }
   ],
   "source": [
    "# Define the features to remove outliers from\n",
    "features = ['alcohol','pH','residual sugar']\n",
    "\n",
    "# Define a function to remove outliers based on the interquartile range (IQR)\n",
    "def remove_outliers_IQR(data, threshold=1.5):\n",
    "    \"\"\"\n",
    "    Removes outliers in a 1D array using the interquartile range (IQR) method.\n",
    "    \n",
    "    Args:\n",
    "        data (np.ndarray): A 1D array of data.\n",
    "        threshold (float): A threshold multiplier for the IQR.\n",
    "        \n",
    "    Returns:\n",
    "        np.ndarray: A 1D array of data with outliers removed.\n",
    "    \"\"\"\n",
    "    Q1 = np.percentile(data, 25)\n",
    "    Q3 = np.percentile(data, 75)\n",
    "    IQR = Q3 - Q1\n",
    "    upper_bound = Q3 + threshold*IQR\n",
    "    lower_bound = Q1 - threshold*IQR\n",
    "    data_clean = data[(data >= lower_bound) & (data <= upper_bound)]\n",
    "    return data_clean\n",
    "\n",
    "# Remove outliers from each feature\n",
    "for feature in features:\n",
    "    data_clean = remove_outliers_IQR(wine[feature].dropna())\n",
    "    n_outliers = len(wine[feature].dropna()) - len(data_clean)\n",
    "    print(f'{n_outliers} outliers removed from {feature}')\n",
    "    wine[feature] = data_clean\n",
    "\n",
    "# Save the cleaned dataset to a new CSV file\n",
    "wine.to_csv('wine_clean.csv', index=False)"
   ]
  },
  {
   "cell_type": "markdown",
   "id": "93fb3fe5",
   "metadata": {},
   "source": [
    "# Data Visualization"
   ]
  },
  {
   "cell_type": "code",
   "execution_count": 13,
   "id": "25035820",
   "metadata": {},
   "outputs": [],
   "source": [
    "import matplotlib.pyplot as plt;   # used for data visualization\n",
    "import seaborn as sns              # used for data visualization"
   ]
  },
  {
   "cell_type": "code",
   "execution_count": 14,
   "id": "58d85535",
   "metadata": {},
   "outputs": [
    {
     "data": {
      "text/plain": [
       "<BarContainer object of 1599 artists>"
      ]
     },
     "execution_count": 14,
     "metadata": {},
     "output_type": "execute_result"
    },
    {
     "data": {
      "image/png": "[encoded data removed]",
      "text/plain": [
       "<Figure size 640x480 with 1 Axes>"
      ]
     },
     "metadata": {},
     "output_type": "display_data"
    }
   ],
   "source": [
    "plt.bar(wine['fixed acidity'], wine['volatile acidity'])"
   ]
  },
  {
   "cell_type": "code",
   "execution_count": 15,
   "id": "77c0231b",
   "metadata": {},
   "outputs": [
    {
     "data": {
      "text/html": [
       "<div>\n",
       "<style scoped>\n",
       "    .dataframe tbody tr th:only-of-type {\n",
       "        vertical-align: middle;\n",
       "    }\n",
       "\n",
       "    .dataframe tbody tr th {\n",
       "        vertical-align: top;\n",
       "    }\n",
       "\n",
       "    .dataframe thead th {\n",
       "        text-align: right;\n",
       "    }\n",
       "</style>\n",
       "<table border=\"1\" class=\"dataframe\">\n",
       "  <thead>\n",
       "    <tr style=\"text-align: right;\">\n",
       "      <th></th>\n",
       "      <th>fixed acidity</th>\n",
       "      <th>volatile acidity</th>\n",
       "      <th>citric acid</th>\n",
       "      <th>residual sugar</th>\n",
       "      <th>chlorides</th>\n",
       "      <th>free sulfur dioxide</th>\n",
       "      <th>total sulfur dioxide</th>\n",
       "      <th>density</th>\n",
       "      <th>pH</th>\n",
       "      <th>sulphates</th>\n",
       "      <th>alcohol</th>\n",
       "      <th>quality</th>\n",
       "    </tr>\n",
       "  </thead>\n",
       "  <tbody>\n",
       "    <tr>\n",
       "      <th>fixed acidity</th>\n",
       "      <td>1.000000</td>\n",
       "      <td>-0.256131</td>\n",
       "      <td>0.671703</td>\n",
       "      <td>0.264818</td>\n",
       "      <td>0.093705</td>\n",
       "      <td>-0.153794</td>\n",
       "      <td>-0.113181</td>\n",
       "      <td>0.668047</td>\n",
       "      <td>-0.668788</td>\n",
       "      <td>0.183006</td>\n",
       "      <td>-0.038312</td>\n",
       "      <td>0.124052</td>\n",
       "    </tr>\n",
       "    <tr>\n",
       "      <th>volatile acidity</th>\n",
       "      <td>-0.256131</td>\n",
       "      <td>1.000000</td>\n",
       "      <td>-0.552496</td>\n",
       "      <td>0.011472</td>\n",
       "      <td>0.061298</td>\n",
       "      <td>-0.010504</td>\n",
       "      <td>0.076470</td>\n",
       "      <td>0.022026</td>\n",
       "      <td>0.240187</td>\n",
       "      <td>-0.260987</td>\n",
       "      <td>-0.193549</td>\n",
       "      <td>-0.390558</td>\n",
       "    </tr>\n",
       "    <tr>\n",
       "      <th>citric acid</th>\n",
       "      <td>0.671703</td>\n",
       "      <td>-0.552496</td>\n",
       "      <td>1.000000</td>\n",
       "      <td>0.173068</td>\n",
       "      <td>0.203823</td>\n",
       "      <td>-0.060978</td>\n",
       "      <td>0.035533</td>\n",
       "      <td>0.364947</td>\n",
       "      <td>-0.535667</td>\n",
       "      <td>0.312770</td>\n",
       "      <td>0.126736</td>\n",
       "      <td>0.226373</td>\n",
       "    </tr>\n",
       "    <tr>\n",
       "      <th>residual sugar</th>\n",
       "      <td>0.264818</td>\n",
       "      <td>0.011472</td>\n",
       "      <td>0.173068</td>\n",
       "      <td>1.000000</td>\n",
       "      <td>0.025136</td>\n",
       "      <td>0.042534</td>\n",
       "      <td>0.109509</td>\n",
       "      <td>0.413949</td>\n",
       "      <td>-0.069011</td>\n",
       "      <td>0.014766</td>\n",
       "      <td>0.087371</td>\n",
       "      <td>0.038105</td>\n",
       "    </tr>\n",
       "    <tr>\n",
       "      <th>chlorides</th>\n",
       "      <td>0.093705</td>\n",
       "      <td>0.061298</td>\n",
       "      <td>0.203823</td>\n",
       "      <td>0.025136</td>\n",
       "      <td>1.000000</td>\n",
       "      <td>0.005562</td>\n",
       "      <td>0.047400</td>\n",
       "      <td>0.200632</td>\n",
       "      <td>-0.243249</td>\n",
       "      <td>0.371260</td>\n",
       "      <td>-0.213632</td>\n",
       "      <td>-0.128907</td>\n",
       "    </tr>\n",
       "    <tr>\n",
       "      <th>free sulfur dioxide</th>\n",
       "      <td>-0.153794</td>\n",
       "      <td>-0.010504</td>\n",
       "      <td>-0.060978</td>\n",
       "      <td>0.042534</td>\n",
       "      <td>0.005562</td>\n",
       "      <td>1.000000</td>\n",
       "      <td>0.667666</td>\n",
       "      <td>-0.021946</td>\n",
       "      <td>0.082127</td>\n",
       "      <td>0.051658</td>\n",
       "      <td>-0.086100</td>\n",
       "      <td>-0.050656</td>\n",
       "    </tr>\n",
       "    <tr>\n",
       "      <th>total sulfur dioxide</th>\n",
       "      <td>-0.113181</td>\n",
       "      <td>0.076470</td>\n",
       "      <td>0.035533</td>\n",
       "      <td>0.109509</td>\n",
       "      <td>0.047400</td>\n",
       "      <td>0.667666</td>\n",
       "      <td>1.000000</td>\n",
       "      <td>0.071269</td>\n",
       "      <td>-0.071639</td>\n",
       "      <td>0.042947</td>\n",
       "      <td>-0.231163</td>\n",
       "      <td>-0.185100</td>\n",
       "    </tr>\n",
       "    <tr>\n",
       "      <th>density</th>\n",
       "      <td>0.668047</td>\n",
       "      <td>0.022026</td>\n",
       "      <td>0.364947</td>\n",
       "      <td>0.413949</td>\n",
       "      <td>0.200632</td>\n",
       "      <td>-0.021946</td>\n",
       "      <td>0.071269</td>\n",
       "      <td>1.000000</td>\n",
       "      <td>-0.310911</td>\n",
       "      <td>0.148506</td>\n",
       "      <td>-0.467509</td>\n",
       "      <td>-0.174919</td>\n",
       "    </tr>\n",
       "    <tr>\n",
       "      <th>pH</th>\n",
       "      <td>-0.668788</td>\n",
       "      <td>0.240187</td>\n",
       "      <td>-0.535667</td>\n",
       "      <td>-0.069011</td>\n",
       "      <td>-0.243249</td>\n",
       "      <td>0.082127</td>\n",
       "      <td>-0.071639</td>\n",
       "      <td>-0.310911</td>\n",
       "      <td>1.000000</td>\n",
       "      <td>-0.191623</td>\n",
       "      <td>0.143862</td>\n",
       "      <td>-0.077170</td>\n",
       "    </tr>\n",
       "    <tr>\n",
       "      <th>sulphates</th>\n",
       "      <td>0.183006</td>\n",
       "      <td>-0.260987</td>\n",
       "      <td>0.312770</td>\n",
       "      <td>0.014766</td>\n",
       "      <td>0.371260</td>\n",
       "      <td>0.051658</td>\n",
       "      <td>0.042947</td>\n",
       "      <td>0.148506</td>\n",
       "      <td>-0.191623</td>\n",
       "      <td>1.000000</td>\n",
       "      <td>0.076104</td>\n",
       "      <td>0.251397</td>\n",
       "    </tr>\n",
       "    <tr>\n",
       "      <th>alcohol</th>\n",
       "      <td>-0.038312</td>\n",
       "      <td>-0.193549</td>\n",
       "      <td>0.126736</td>\n",
       "      <td>0.087371</td>\n",
       "      <td>-0.213632</td>\n",
       "      <td>-0.086100</td>\n",
       "      <td>-0.231163</td>\n",
       "      <td>-0.467509</td>\n",
       "      <td>0.143862</td>\n",
       "      <td>0.076104</td>\n",
       "      <td>1.000000</td>\n",
       "      <td>0.471024</td>\n",
       "    </tr>\n",
       "    <tr>\n",
       "      <th>quality</th>\n",
       "      <td>0.124052</td>\n",
       "      <td>-0.390558</td>\n",
       "      <td>0.226373</td>\n",
       "      <td>0.038105</td>\n",
       "      <td>-0.128907</td>\n",
       "      <td>-0.050656</td>\n",
       "      <td>-0.185100</td>\n",
       "      <td>-0.174919</td>\n",
       "      <td>-0.077170</td>\n",
       "      <td>0.251397</td>\n",
       "      <td>0.471024</td>\n",
       "      <td>1.000000</td>\n",
       "    </tr>\n",
       "  </tbody>\n",
       "</table>\n",
       "</div>"
      ],
      "text/plain": [
       "                      fixed acidity  volatile acidity  citric acid  \\\n",
       "fixed acidity              1.000000         -0.256131     0.671703   \n",
       "volatile acidity          -0.256131          1.000000    -0.552496   \n",
       "citric acid                0.671703         -0.552496     1.000000   \n",
       "residual sugar             0.264818          0.011472     0.173068   \n",
       "chlorides                  0.093705          0.061298     0.203823   \n",
       "free sulfur dioxide       -0.153794         -0.010504    -0.060978   \n",
       "total sulfur dioxide      -0.113181          0.076470     0.035533   \n",
       "density                    0.668047          0.022026     0.364947   \n",
       "pH                        -0.668788          0.240187    -0.535667   \n",
       "sulphates                  0.183006         -0.260987     0.312770   \n",
       "alcohol                   -0.038312         -0.193549     0.126736   \n",
       "quality                    0.124052         -0.390558     0.226373   \n",
       "\n",
       "                      residual sugar  chlorides  free sulfur dioxide  \\\n",
       "fixed acidity               0.264818   0.093705            -0.153794   \n",
       "volatile acidity            0.011472   0.061298            -0.010504   \n",
       "citric acid                 0.173068   0.203823            -0.060978   \n",
       "residual sugar              1.000000   0.025136             0.042534   \n",
       "chlorides                   0.025136   1.000000             0.005562   \n",
       "free sulfur dioxide         0.042534   0.005562             1.000000   \n",
       "total sulfur dioxide        0.109509   0.047400             0.667666   \n",
       "density                     0.413949   0.200632            -0.021946   \n",
       "pH                         -0.069011  -0.243249             0.082127   \n",
       "sulphates                   0.014766   0.371260             0.051658   \n",
       "alcohol                     0.087371  -0.213632            -0.086100   \n",
       "quality                     0.038105  -0.128907            -0.050656   \n",
       "\n",
       "                      total sulfur dioxide   density        pH  sulphates  \\\n",
       "fixed acidity                    -0.113181  0.668047 -0.668788   0.183006   \n",
       "volatile acidity                  0.076470  0.022026  0.240187  -0.260987   \n",
       "citric acid                       0.035533  0.364947 -0.535667   0.312770   \n",
       "residual sugar                    0.109509  0.413949 -0.069011   0.014766   \n",
       "chlorides                         0.047400  0.200632 -0.243249   0.371260   \n",
       "free sulfur dioxide               0.667666 -0.021946  0.082127   0.051658   \n",
       "total sulfur dioxide              1.000000  0.071269 -0.071639   0.042947   \n",
       "density                           0.071269  1.000000 -0.310911   0.148506   \n",
       "pH                               -0.071639 -0.310911  1.000000  -0.191623   \n",
       "sulphates                         0.042947  0.148506 -0.191623   1.000000   \n",
       "alcohol                          -0.231163 -0.467509  0.143862   0.076104   \n",
       "quality                          -0.185100 -0.174919 -0.077170   0.251397   \n",
       "\n",
       "                       alcohol   quality  \n",
       "fixed acidity        -0.038312  0.124052  \n",
       "volatile acidity     -0.193549 -0.390558  \n",
       "citric acid           0.126736  0.226373  \n",
       "residual sugar        0.087371  0.038105  \n",
       "chlorides            -0.213632 -0.128907  \n",
       "free sulfur dioxide  -0.086100 -0.050656  \n",
       "total sulfur dioxide -0.231163 -0.185100  \n",
       "density              -0.467509 -0.174919  \n",
       "pH                    0.143862 -0.077170  \n",
       "sulphates             0.076104  0.251397  \n",
       "alcohol               1.000000  0.471024  \n",
       "quality               0.471024  1.000000  "
      ]
     },
     "execution_count": 15,
     "metadata": {},
     "output_type": "execute_result"
    }
   ],
   "source": [
    "# calculating the correlation of complete dataset\n",
    "\n",
    "corr = wine.corr()\n",
    "corr"
   ]
  },
  {
   "cell_type": "code",
   "execution_count": 16,
   "id": "de4db8af",
   "metadata": {},
   "outputs": [
    {
     "data": {
      "text/plain": [
       "<AxesSubplot:>"
      ]
     },
     "execution_count": 16,
     "metadata": {},
     "output_type": "execute_result"
    },
    {
     "data": {
      "image/png": "[encoded data removed]",
      "text/plain": [
       "<Figure size 640x480 with 2 Axes>"
      ]
     },
     "metadata": {},
     "output_type": "display_data"
    }
   ],
   "source": [
    "# Visulaizing the heatmap of complete dataset\n",
    "\n",
    "sns.heatmap(corr)"
   ]
  },
  {
   "cell_type": "code",
   "execution_count": 17,
   "id": "196d56dc",
   "metadata": {},
   "outputs": [
    {
     "data": {
      "text/plain": [
       "<AxesSubplot:xlabel='residual sugar', ylabel='count'>"
      ]
     },
     "execution_count": 17,
     "metadata": {},
     "output_type": "execute_result"
    },
    {
     "data": {
      "image/png": "[encoded data removed]",
      "text/plain": [
       "<Figure size 640x480 with 1 Axes>"
      ]
     },
     "metadata": {},
     "output_type": "display_data"
    }
   ],
   "source": [
    "sns.countplot(x='residual sugar',data=wine)"
   ]
  },
  {
   "cell_type": "markdown",
   "id": "16ce5585",
   "metadata": {},
   "source": [
    "# Implement Decision Tree Regression(ID3)"
   ]
  },
  {
   "cell_type": "markdown",
   "id": "fcd364ee",
   "metadata": {},
   "source": [
    "# Defining a Node Class"
   ]
  },
  {
   "cell_type": "code",
   "execution_count": 18,
   "id": "de5ac8b9",
   "metadata": {},
   "outputs": [],
   "source": [
    "import numpy as np\n",
    "\n",
    "class Node:\n",
    "   \n",
    "    def __init__(self, feature=None, threshold=None, value=None, var_red=None, left=None, right=None):\n",
    "        \n",
    "         # for decision node\n",
    "        self.feature = feature      # feature to split on\n",
    "        self.threshold = threshold  # threshold value to split on\n",
    "        self.left = left            # left subtree\n",
    "        self.right = right          # right subtree\n",
    "        self.var_red = var_red      # variance reduction\n",
    "        \n",
    "        # for leaf node\n",
    "        self.value = value          # predicted value "
   ]
  },
  {
   "cell_type": "markdown",
   "id": "1f27af30",
   "metadata": {},
   "source": [
    "# Defining a Tree Class"
   ]
  },
  {
   "cell_type": "code",
   "execution_count": 19,
   "id": "184794e3",
   "metadata": {},
   "outputs": [],
   "source": [
    "class DecisionTree:\n",
    "    \n",
    "    def __init__(self, min_samples_split=4, max_depth=3):\n",
    "        self.min_samples_split = min_samples_split\n",
    "        self.max_depth = max_depth\n",
    "        self.tree = None\n",
    "    \n",
    "    def fit(self, X, y):\n",
    "        self.tree = self.build_tree(X, y)\n",
    "    \n",
    "    def predict(self, X):\n",
    "        y_pred = np.zeros(X.shape[0])\n",
    "        for i, x in enumerate(X):\n",
    "            node = self.tree\n",
    "            while node.feature is not None:\n",
    "                if x[node.feature] <= node.threshold:\n",
    "                    node = node.left\n",
    "                else:\n",
    "                    node = node.right\n",
    "            y_pred[i] = node.value\n",
    "        return y_pred\n",
    "    \n",
    "    def build_tree(self, X, y):\n",
    "        if X.shape[0] <= self.min_samples_split:\n",
    "            return Node(value=self.get_leaf_value(y))\n",
    "        \n",
    "        # Split the data into two branches\n",
    "        best_feature, best_threshold, best_var_red = self.find_best_split(X, y)\n",
    "        if best_feature is None:\n",
    "            return Node(value=self.get_leaf_value(y))\n",
    "        \n",
    "        dataset_left = X[:, best_feature] <= best_threshold\n",
    "        dataset_right = ~dataset_left\n",
    "        left_tree = self.build_tree(X[dataset_left], y[dataset_left])\n",
    "        right_tree = self.build_tree(X[dataset_right], y[dataset_right])\n",
    "        \n",
    "        return Node(feature=best_feature, threshold=best_threshold, var_red=best_var_red, left=left_tree, right=right_tree)\n",
    "    \n",
    "    def find_best_split(self, X, y):\n",
    "        best_feature = None\n",
    "        best_threshold = None\n",
    "        best_var_red = 0\n",
    "        \n",
    "        for feature in range(X.shape[1]):\n",
    "            sorted_X = np.sort(X[:, feature])\n",
    "            thresholds = (sorted_X[1:] + sorted_X[:-1]) / 2\n",
    "            for threshold in thresholds:\n",
    "                dataset_left = X[:, feature] <= threshold\n",
    "                dataset_right = ~dataset_left\n",
    "                \n",
    "                if dataset_left.sum() < self.min_samples_split or dataset_right.sum() < self.min_samples_split:\n",
    "                    continue\n",
    "                \n",
    "                var_red = self.get_var_red(y, dataset_left, dataset_right)\n",
    "                \n",
    "                if var_red > best_var_red:\n",
    "                    best_var_red = var_red\n",
    "                    best_feature = feature\n",
    "                    best_threshold = threshold\n",
    "        \n",
    "        if best_feature is not None:\n",
    "            return best_feature, best_threshold, best_var_red\n",
    "        else:\n",
    "            return None, None, None\n",
    "    \n",
    "    def get_var_red(self, y, dataset_left, dataset_right):\n",
    "        observed = np.array([\n",
    "            [np.sum(y[dataset_left] == 0), np.sum(y[dataset_left] == 1)],\n",
    "            [np.sum(y[dataset_right] == 0), np.sum(y[dataset_right] == 1)]\n",
    "        ])\n",
    "        expected = np.array([\n",
    "            [np.sum(dataset_left) * np.sum(y == 0), np.sum(dataset_left) * np.sum(y == 1)],\n",
    "            [np.sum(dataset_right) * np.sum(y == 0), np.sum(dataset_right) * np.sum(y == 1)]\n",
    "        ]) / y.shape[0]\n",
    "        var_red = np.sum((observed - expected) ** 2 / expected)\n",
    "        return var_red\n",
    "    \n",
    "    def get_leaf_value(self, y):\n",
    "        return np.bincount(y).argmax()\n",
    "    \n",
    "    def hyperparameter_tuning(self, X, y, n_folds=8, max_depth_values=[4], min_samples_values=[2]):\n",
    "        best_params = {'max_depth': 4, 'min_samples': 2}\n",
    "        best_mse = float('inf')\n",
    "\n",
    "        for max_depth in max_depth_values:\n",
    "            for min_samples in min_samples_values:\n",
    "                mse_scores = []\n",
    "                fold_size = len(X) // n_folds\n",
    "                for i in range(n_folds):\n",
    "                    X_train = X.drop(X.index[i * fold_size:(i + 1) * fold_size])\n",
    "                    X_test = X.iloc[i * fold_size:(i + 1) * fold_size]\n",
    "                    y_train = y.drop(y.index[i * fold_size:(i + 1) * fold_size])\n",
    "                    y_test = y.iloc[i * fold_size:(i + 1) * fold_size]\n",
    "                    model = DecisionTreeRegressor(max_depth=max_depth, min_samples_split=min_samples, min_samples_leaf=self.min_samples_leaf)\n",
    "                    model.fit(X_train, y_train)\n",
    "                    y_pred = model.predict(X_test)\n",
    "                    mse = self._mse(y_test, y_pred)\n",
    "                    mse_scores.append(mse)\n",
    "                mean_mse = sum(mse_scores) / len(mse_scores)\n",
    "                if mean_mse < best_mse:\n",
    "                    best_mse = mean_mse\n",
    "                    best_params['max_depth'] = max_depth\n",
    "                    best_params['min_samples'] = min_samples\n",
    "\n",
    "        self.max_depth = best_params['max_depth']\n",
    "        self.min_samples_split = best_params['min_samples']\n",
    "\n",
    "        return best_params\n"
   ]
  },
  {
   "cell_type": "markdown",
   "id": "7807612b",
   "metadata": {},
   "source": [
    "# Split the data into train and test "
   ]
  },
  {
   "cell_type": "code",
   "execution_count": 20,
   "id": "b41fd428",
   "metadata": {},
   "outputs": [],
   "source": [
    "# Define the target variable and the features\n",
    "target = 'quality'\n",
    "features = [col for col in wine.columns if col != target]\n",
    "\n",
    "# Split the data into training and testing sets\n",
    "train_size = int(0.8 * len(wine))\n",
    "train_df = wine[:train_size]\n",
    "test_df = wine[train_size:]\n",
    "\n",
    "# Split the training and testing sets into X and y\n",
    "X_train = train_df[features].values\n",
    "y_train = train_df[target].values\n",
    "X_test = test_df[features].values\n",
    "y_test = test_df[target].values\n"
   ]
  },
  {
   "cell_type": "code",
   "execution_count": 21,
   "id": "0c6f8e2d",
   "metadata": {},
   "outputs": [],
   "source": [
    "import time\n",
    "# record start time\n",
    "start_time = time.time()"
   ]
  },
  {
   "cell_type": "code",
   "execution_count": 22,
   "id": "e50ee494",
   "metadata": {},
   "outputs": [],
   "source": [
    "regressor = DecisionTree()"
   ]
  },
  {
   "cell_type": "code",
   "execution_count": 23,
   "id": "bb5da86a",
   "metadata": {},
   "outputs": [],
   "source": [
    "regressor.fit(X_train,y_train)"
   ]
  },
  {
   "cell_type": "code",
   "execution_count": 24,
   "id": "d32dc121",
   "metadata": {},
   "outputs": [],
   "source": [
    "y_pred=regressor.predict(y_test)"
   ]
  },
  {
   "cell_type": "code",
   "execution_count": 25,
   "id": "de4167a3",
   "metadata": {},
   "outputs": [
    {
     "name": "stdout",
     "output_type": "stream",
     "text": [
      "Mean Squared Error: 0.88125\n"
     ]
    }
   ],
   "source": [
    "# Define the mean squared error function\n",
    "def mse(y_true, y_pred):\n",
    "    return ((y_true - y_pred)**2).mean()\n",
    "mse_value = mse(y_test, y_pred)\n",
    "print('Mean Squared Error:', mse_value)\n"
   ]
  },
  {
   "cell_type": "code",
   "execution_count": 26,
   "id": "0dff9c33",
   "metadata": {},
   "outputs": [
    {
     "name": "stdout",
     "output_type": "stream",
     "text": [
      "Mean Absolute Error: 0.65625\n"
     ]
    }
   ],
   "source": [
    "# Compute the mean absolute error\n",
    "mae = np.mean(np.abs(y_pred - y_test))\n",
    "print('Mean Absolute Error:', mae)"
   ]
  },
  {
   "cell_type": "code",
   "execution_count": 27,
   "id": "2e0d5d8e",
   "metadata": {},
   "outputs": [
    {
     "name": "stdout",
     "output_type": "stream",
     "text": [
      "Time taken to run the code: 6.10 seconds\n"
     ]
    }
   ],
   "source": [
    "# record end time\n",
    "end_time = time.time()\n",
    "\n",
    "# calculate the time taken to fit the model\n",
    "time_taken = end_time - start_time\n",
    "\n",
    "# print the time taken\n",
    "print(\"Time taken to run the code: {:.2f} seconds\".format(time_taken))"
   ]
  },
  {
   "cell_type": "code",
   "execution_count": null,
   "id": "31d1f1af",
   "metadata": {},
   "outputs": [],
   "source": []
  },
  {
   "cell_type": "code",
   "execution_count": null,
   "id": "89c92a84",
   "metadata": {},
   "outputs": [],
   "source": []
  }
 ],
 "metadata": {
  "kernelspec": {
   "display_name": "Python 3 (ipykernel)",
   "language": "python",
   "name": "python3"
  },
  "language_info": {
   "codemirror_mode": {
    "name": "ipython",
    "version": 3
   },
   "file_extension": ".py",
   "mimetype": "text/x-python",
   "name": "python",
   "nbconvert_exporter": "python",
   "pygments_lexer": "ipython3",
   "version": "3.9.13"
  }
 },
 "nbformat": 4,
 "nbformat_minor": 5
}
